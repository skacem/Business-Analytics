{
 "cells": [
  {
   "cell_type": "code",
   "execution_count": 1,
   "id": "e864b9b9",
   "metadata": {},
   "outputs": [],
   "source": [
    "import numpy as np\n",
    "import pandas as pd\n",
    "import matplotlib.pyplot as plt\n",
    "import matplotlib as mpl\n",
    "from sklearn.preprocessing import scale\n",
    "from scipy.spatial.distance import pdist\n",
    "from scipy.cluster.hierarchy import dendrogram , linkage, cut_tree\n",
    "import seaborn as sns"
   ]
  },
  {
   "cell_type": "code",
   "execution_count": 2,
   "id": "110bb25d-289d-43f4-a3b5-02901d2a823b",
   "metadata": {},
   "outputs": [],
   "source": [
    "plt.rcParams[\"figure.figsize\"] = (12,8)"
   ]
  },
  {
   "cell_type": "code",
   "execution_count": 3,
   "id": "bfedc66c",
   "metadata": {},
   "outputs": [
    {
     "data": {
      "text/html": [
       "<div>\n",
       "<style scoped>\n",
       "    .dataframe tbody tr th:only-of-type {\n",
       "        vertical-align: middle;\n",
       "    }\n",
       "\n",
       "    .dataframe tbody tr th {\n",
       "        vertical-align: top;\n",
       "    }\n",
       "\n",
       "    .dataframe thead th {\n",
       "        text-align: right;\n",
       "    }\n",
       "</style>\n",
       "<table border=\"1\" class=\"dataframe\">\n",
       "  <thead>\n",
       "    <tr style=\"text-align: right;\">\n",
       "      <th></th>\n",
       "      <th>ADS</th>\n",
       "      <th>CV</th>\n",
       "    </tr>\n",
       "  </thead>\n",
       "  <tbody>\n",
       "    <tr>\n",
       "      <th>0</th>\n",
       "      <td>1</td>\n",
       "      <td>0.68</td>\n",
       "    </tr>\n",
       "    <tr>\n",
       "      <th>1</th>\n",
       "      <td>3</td>\n",
       "      <td>0.40</td>\n",
       "    </tr>\n",
       "    <tr>\n",
       "      <th>2</th>\n",
       "      <td>1</td>\n",
       "      <td>0.59</td>\n",
       "    </tr>\n",
       "    <tr>\n",
       "      <th>3</th>\n",
       "      <td>2</td>\n",
       "      <td>0.39</td>\n",
       "    </tr>\n",
       "    <tr>\n",
       "      <th>4</th>\n",
       "      <td>9</td>\n",
       "      <td>0.11</td>\n",
       "    </tr>\n",
       "  </tbody>\n",
       "</table>\n",
       "</div>"
      ],
      "text/plain": [
       "   ADS    CV\n",
       "0    1  0.68\n",
       "1    3  0.40\n",
       "2    1  0.59\n",
       "3    2  0.39\n",
       "4    9  0.11"
      ]
     },
     "execution_count": 3,
     "metadata": {},
     "output_type": "execute_result"
    }
   ],
   "source": [
    "# Reac the csv file\n",
    "df = pd.read_csv('DATA_2.01_SKU.csv')\n",
    "\n",
    "# Show the first five rows\n",
    "df.head()"
   ]
  },
  {
   "cell_type": "code",
   "execution_count": 4,
   "id": "e95e6e07",
   "metadata": {},
   "outputs": [
    {
     "name": "stdout",
     "output_type": "stream",
     "text": [
      "<class 'pandas.core.frame.DataFrame'>\n",
      "RangeIndex: 100 entries, 0 to 99\n",
      "Data columns (total 2 columns):\n",
      " #   Column  Non-Null Count  Dtype  \n",
      "---  ------  --------------  -----  \n",
      " 0   ADS     100 non-null    int64  \n",
      " 1   CV      100 non-null    float64\n",
      "dtypes: float64(1), int64(1)\n",
      "memory usage: 1.7 KB\n"
     ]
    }
   ],
   "source": [
    "# Structure of the data\n",
    "df.info()"
   ]
  },
  {
   "cell_type": "code",
   "execution_count": 5,
   "id": "84f3a7d9",
   "metadata": {},
   "outputs": [
    {
     "data": {
      "text/html": [
       "<div>\n",
       "<style scoped>\n",
       "    .dataframe tbody tr th:only-of-type {\n",
       "        vertical-align: middle;\n",
       "    }\n",
       "\n",
       "    .dataframe tbody tr th {\n",
       "        vertical-align: top;\n",
       "    }\n",
       "\n",
       "    .dataframe thead th {\n",
       "        text-align: right;\n",
       "    }\n",
       "</style>\n",
       "<table border=\"1\" class=\"dataframe\">\n",
       "  <thead>\n",
       "    <tr style=\"text-align: right;\">\n",
       "      <th></th>\n",
       "      <th>ADS</th>\n",
       "      <th>CV</th>\n",
       "    </tr>\n",
       "  </thead>\n",
       "  <tbody>\n",
       "    <tr>\n",
       "      <th>count</th>\n",
       "      <td>100.000000</td>\n",
       "      <td>100.000000</td>\n",
       "    </tr>\n",
       "    <tr>\n",
       "      <th>mean</th>\n",
       "      <td>5.610000</td>\n",
       "      <td>0.396000</td>\n",
       "    </tr>\n",
       "    <tr>\n",
       "      <th>std</th>\n",
       "      <td>4.211324</td>\n",
       "      <td>0.237317</td>\n",
       "    </tr>\n",
       "    <tr>\n",
       "      <th>min</th>\n",
       "      <td>1.000000</td>\n",
       "      <td>0.050000</td>\n",
       "    </tr>\n",
       "    <tr>\n",
       "      <th>25%</th>\n",
       "      <td>2.000000</td>\n",
       "      <td>0.130000</td>\n",
       "    </tr>\n",
       "    <tr>\n",
       "      <th>50%</th>\n",
       "      <td>3.000000</td>\n",
       "      <td>0.400000</td>\n",
       "    </tr>\n",
       "    <tr>\n",
       "      <th>75%</th>\n",
       "      <td>10.000000</td>\n",
       "      <td>0.590000</td>\n",
       "    </tr>\n",
       "    <tr>\n",
       "      <th>max</th>\n",
       "      <td>14.000000</td>\n",
       "      <td>0.960000</td>\n",
       "    </tr>\n",
       "  </tbody>\n",
       "</table>\n",
       "</div>"
      ],
      "text/plain": [
       "              ADS          CV\n",
       "count  100.000000  100.000000\n",
       "mean     5.610000    0.396000\n",
       "std      4.211324    0.237317\n",
       "min      1.000000    0.050000\n",
       "25%      2.000000    0.130000\n",
       "50%      3.000000    0.400000\n",
       "75%     10.000000    0.590000\n",
       "max     14.000000    0.960000"
      ]
     },
     "execution_count": 5,
     "metadata": {},
     "output_type": "execute_result"
    }
   ],
   "source": [
    "# Summary statistics of each numeric variable\n",
    "df.describe()"
   ]
  },
  {
   "cell_type": "markdown",
   "id": "5bf4f221",
   "metadata": {},
   "source": [
    "# Visual Clustering\n",
    "\n",
    "Let's try to visually  discern clusters in this small dataset and later see if we obtain the same results with a more systematic apporach."
   ]
  },
  {
   "cell_type": "code",
   "execution_count": 6,
   "id": "92b80c21",
   "metadata": {},
   "outputs": [
    {
     "data": {
      "text/plain": [
       "Text(0.75, 1.8, 'Crickets')"
      ]
     },
     "execution_count": 6,
     "metadata": {},
     "output_type": "execute_result"
    },
    {
     "data": {
      "image/png": "[encoded data removed]",
      "text/plain": [
       "<Figure size 864x576 with 1 Axes>"
      ]
     },
     "metadata": {
      "needs_background": "light"
     },
     "output_type": "display_data"
    }
   ],
   "source": [
    "# Scatter plot of the data with group separation lines\n",
    "#plt.figure(figsize=(12,8))\n",
    "plt.scatter(df['CV'], df['ADS'], facecolors='none', edgecolors='b', )\n",
    "\n",
    "plt.title('SKU Example')\n",
    "plt.xlabel('Coefficient of Variation')\n",
    "plt.ylabel('Average Daily Sales')\n",
    "\n",
    "# Vertical line\n",
    "plt.axvline(x=.2, color='r') \n",
    "# Horizontal line\n",
    "plt.axhline(y=4, color='r')\n",
    "\n",
    "# We can add some text to our plot by using text()\n",
    "fsize = 18\n",
    "col = 'orange'\n",
    "plt.text(0.09, 9.4, \"Horses\", color=col, fontsize=fsize)\n",
    "plt.text(0.6, 9, \"Wild Bules\", color=col, fontsize=fsize)\n",
    "plt.text(0.75, 1.8, \"Crickets\", color=col, fontsize=fsize)"
   ]
  },
  {
   "cell_type": "markdown",
   "id": "4387464a",
   "metadata": {},
   "source": [
    "# Hierachical Cluster Analysis (HCA)\n",
    "\n",
    "## Clustering\n",
    "\n",
    "Let's find groups using hierarchical clustering and check if we obtain similar results"
   ]
  },
  {
   "cell_type": "code",
   "execution_count": 7,
   "id": "f039b8cd",
   "metadata": {},
   "outputs": [],
   "source": [
    "# copy the dataframe\n",
    "testdata = df.copy() # deep is set as default"
   ]
  },
  {
   "cell_type": "code",
   "execution_count": 8,
   "id": "a59bf5a5",
   "metadata": {},
   "outputs": [],
   "source": [
    "# Scale it\n",
    "testdata = scale(testdata)"
   ]
  },
  {
   "cell_type": "code",
   "execution_count": 9,
   "id": "644c1181",
   "metadata": {},
   "outputs": [],
   "source": [
    "# the pdist() function computes the distances of all the observations \n",
    "# in our dataset\n",
    "d = pdist(testdata) # default metric is euclidean"
   ]
  },
  {
   "cell_type": "code",
   "execution_count": 10,
   "id": "98efc906",
   "metadata": {},
   "outputs": [],
   "source": [
    "# Perform hierarchical clustering on distance metrics\n",
    "# Somehow the ward method didn't return the same result as R\n",
    "# the default method is 'ward', it never hurts to play around\n",
    "# with the other common linkage methods. Like in this case the 'weighted'\n",
    "# delivered better results.\n",
    "hcward = linkage(d, method='weighted')"
   ]
  },
  {
   "cell_type": "markdown",
   "id": "5f452a9e-f9a3-4144-b953-77c0f1928058",
   "metadata": {},
   "source": [
    "## The Dendrogram"
   ]
  },
  {
   "cell_type": "code",
   "execution_count": 11,
   "id": "5e06c02b-127f-4838-805a-6f6c3e77da15",
   "metadata": {},
   "outputs": [
    {
     "data": {
      "text/plain": [
       "Text(0, 0.5, 'Distance')"
      ]
     },
     "execution_count": 11,
     "metadata": {},
     "output_type": "execute_result"
    },
    {
     "data": {
      "image/png": "[encoded data removed]",
      "text/plain": [
       "<Figure size 864x576 with 1 Axes>"
      ]
     },
     "metadata": {
      "needs_background": "light"
     },
     "output_type": "display_data"
    }
   ],
   "source": [
    "# Plot dendrogram\n",
    "plt.title(\"SKU Dendrogram\")\n",
    "dend = dendrogram(hcward,  \n",
    "                  leaf_rotation=90,\n",
    "                    leaf_font_size=7);\n",
    "plt.xlabel('SKU index')\n",
    "plt.ylabel('Distance')\n",
    "# Horizontal lines are cluster merges. Their heights tell you about \n",
    "# the distance covered for merging then next closest cluster to form a new one."
   ]
  },
  {
   "cell_type": "markdown",
   "id": "d6e9acca-017d-45e9-8a65-1f9dde335f7a",
   "metadata": {},
   "source": [
    "In this example we have only 100 observations. \n",
    "In case of a bigger dataset we could truncate the results and show only the last p merged clusters."
   ]
  },
  {
   "cell_type": "code",
   "execution_count": 12,
   "id": "38e17129-a121-4089-b867-30c9dab3d608",
   "metadata": {},
   "outputs": [
    {
     "data": {
      "image/png": "[encoded data removed]",
      "text/plain": [
       "<Figure size 864x576 with 1 Axes>"
      ]
     },
     "metadata": {
      "needs_background": "light"
     },
     "output_type": "display_data"
    }
   ],
   "source": [
    "# Plotting a more clear dendrogram\n",
    "plt.title(\"SKU Dendrogram - Truncated\")\n",
    "dend = dendrogram(hcward,  \n",
    "                  truncate_mode='lastp',\n",
    "                  p = 14,\n",
    "                  show_contracted=True,\n",
    "                  leaf_rotation=90,\n",
    "                  leaf_font_size=12)\n",
    "plt.xlabel('SKU index')\n",
    "plt.ylabel('Distance');"
   ]
  },
  {
   "cell_type": "markdown",
   "id": "6c8612ae-eb3c-4293-a9c3-f2908addebf2",
   "metadata": {},
   "source": [
    "The parameter show_contracted allows us to draw black dots at the heights of those previous cluster merges.\n",
    " \n",
    "The cluster size of the truncated clusters is printed in brackets.\n",
    "\n",
    "## Determining the number of clusters"
   ]
  },
  {
   "cell_type": "markdown",
   "id": "afd4afd5-db0c-4db4-a83e-d060d80c8989",
   "metadata": {
    "tags": []
   },
   "source": [
    "When it comes to cut-off selection there is no golden method on how to pick the perfect number of clusters. What matters is to use the right clustering approach for the business problem at hand and that your conclusions are actionable. However there is tradeoff between too many nuances and too few:\n",
    "* Select too many clusters and you will confuse and lose your audience\n",
    "* Too few and your audience  my over-generalize your results.\n",
    "In this example we could see from our precedent scatter plot that we have 3 distinctive clusters.\n",
    "\n",
    "If the number of clusters is not that obvious we could make use of some automated cut-off selection such as the [Elbow Method](https://bit.ly/3exFxim).\n",
    "\n",
    "☞ For more information about determining the number of cluster check out the following [link](https://bit.ly/3xyJoVg)"
   ]
  },
  {
   "cell_type": "markdown",
   "id": "2f095f3c-2fc1-4c10-b718-659c16e802a1",
   "metadata": {},
   "source": [
    "## Capture the Clusters"
   ]
  },
  {
   "cell_type": "code",
   "execution_count": 13,
   "id": "43c00c03",
   "metadata": {
    "tags": []
   },
   "outputs": [],
   "source": [
    "# 3 Clusters\n",
    "df['groups'] = cut_tree(hcward, n_clusters=3)"
   ]
  },
  {
   "cell_type": "markdown",
   "id": "2cc572be-21c1-4272-965e-4410cbbb105a",
   "metadata": {},
   "source": [
    "## Visualizing Your Clusters"
   ]
  },
  {
   "cell_type": "code",
   "execution_count": 14,
   "id": "d726cced",
   "metadata": {},
   "outputs": [
    {
     "data": {
      "image/png": "[encoded data removed]",
      "text/plain": [
       "<Figure size 864x576 with 1 Axes>"
      ]
     },
     "metadata": {
      "needs_background": "light"
     },
     "output_type": "display_data"
    }
   ],
   "source": [
    "fig, ax = plt.subplots()\n",
    "col = ['orange', 'red', 'green']\n",
    "\n",
    "grouped = df.groupby('groups')\n",
    "for key, group in grouped:\n",
    "        group.plot(ax=ax, kind='scatter', x='CV', \n",
    "                   y='ADS', label='group ' + str(key), \n",
    "                   linewidths=5, color=col[key],alpha=.6)"
   ]
  },
  {
   "cell_type": "markdown",
   "id": "de7d1425-7245-4d97-a848-da87d6fd6812",
   "metadata": {},
   "source": [
    "Where \n",
    "* ADS = Average day sales and \n",
    "* CV = Coefficient of Variation or volatility.\n",
    "\n",
    "The volatility of something may be measured with the coefficient of variation. In this case, it is the standard deviation of sales, divided by the mean sales for the corresponding SKU."
   ]
  },
  {
   "cell_type": "code",
   "execution_count": 15,
   "id": "9d407f61",
   "metadata": {},
   "outputs": [
    {
     "data": {
      "image/png": "[encoded data removed]",
      "text/plain": [
       "<Figure size 648x216 with 3 Axes>"
      ]
     },
     "metadata": {
      "needs_background": "light"
     },
     "output_type": "display_data"
    }
   ],
   "source": [
    "grid1 = sns.FacetGrid(df, col='groups')\n",
    "grid1.map(plt.scatter, 'CV', 'ADS');"
   ]
  },
  {
   "cell_type": "markdown",
   "id": "4abd22d1-3643-40e0-bb74-056ac30104af",
   "metadata": {},
   "source": [
    "Now that we got the groups, we need to be able to express the complexity of the results in simple terms.\n",
    "\n"
   ]
  },
  {
   "cell_type": "code",
   "execution_count": 16,
   "id": "3f8c32ce-fc62-47c2-87fb-fca621b8689c",
   "metadata": {},
   "outputs": [
    {
     "data": {
      "text/html": [
       "<div>\n",
       "<style scoped>\n",
       "    .dataframe tbody tr th:only-of-type {\n",
       "        vertical-align: middle;\n",
       "    }\n",
       "\n",
       "    .dataframe tbody tr th {\n",
       "        vertical-align: top;\n",
       "    }\n",
       "\n",
       "    .dataframe thead th {\n",
       "        text-align: right;\n",
       "    }\n",
       "</style>\n",
       "<table border=\"1\" class=\"dataframe\">\n",
       "  <thead>\n",
       "    <tr style=\"text-align: right;\">\n",
       "      <th></th>\n",
       "      <th>ADS</th>\n",
       "      <th>CV</th>\n",
       "    </tr>\n",
       "    <tr>\n",
       "      <th>groups</th>\n",
       "      <th></th>\n",
       "      <th></th>\n",
       "    </tr>\n",
       "  </thead>\n",
       "  <tbody>\n",
       "    <tr>\n",
       "      <th>1</th>\n",
       "      <td>9.750000</td>\n",
       "      <td>0.099286</td>\n",
       "    </tr>\n",
       "    <tr>\n",
       "      <th>2</th>\n",
       "      <td>9.142857</td>\n",
       "      <td>0.616667</td>\n",
       "    </tr>\n",
       "    <tr>\n",
       "      <th>0</th>\n",
       "      <td>1.882353</td>\n",
       "      <td>0.468039</td>\n",
       "    </tr>\n",
       "  </tbody>\n",
       "</table>\n",
       "</div>"
      ],
      "text/plain": [
       "             ADS        CV\n",
       "groups                    \n",
       "1       9.750000  0.099286\n",
       "2       9.142857  0.616667\n",
       "0       1.882353  0.468039"
      ]
     },
     "execution_count": 16,
     "metadata": {},
     "output_type": "execute_result"
    }
   ],
   "source": [
    "# Let's generate a table with the defined groups\n",
    "sku_groups = df.groupby('groups').mean()\n",
    "sku_groups.sort_values(by='ADS', ascending=False)"
   ]
  },
  {
   "cell_type": "markdown",
   "id": "41d8e913-d2dc-445d-94de-1410e0a42fd2",
   "metadata": {
    "tags": []
   },
   "source": [
    "# Analysis, Communication and (actionable) Conclusions\n",
    "\n",
    "Once we get the result with the different clusters, it is crucial to understand what they mean, how do they differ and give them understandable names. So let's do this.\n",
    "\n",
    "From the above table and figures we recognize that:\n",
    "\n",
    "1. Group 1: has high sales and low volatility. Let's call them \"horses\" since those products are strong and reliable\n",
    "2. Group 2 has also high sales but also high volatility. Let's call them \"bulls\", since they are strong, but difficult to control.\n",
    "3. Group 0: we name the group of low sales and high volatility \"crickets\". Because they are small, but can jump unexpectedly."
   ]
  },
  {
   "cell_type": "code",
   "execution_count": 17,
   "id": "3e4364cb-70d2-4f6d-a7f0-7bf937497d95",
   "metadata": {
    "tags": []
   },
   "outputs": [
    {
     "data": {
      "text/html": [
       "<div>\n",
       "<style scoped>\n",
       "    .dataframe tbody tr th:only-of-type {\n",
       "        vertical-align: middle;\n",
       "    }\n",
       "\n",
       "    .dataframe tbody tr th {\n",
       "        vertical-align: top;\n",
       "    }\n",
       "\n",
       "    .dataframe thead th {\n",
       "        text-align: right;\n",
       "    }\n",
       "</style>\n",
       "<table border=\"1\" class=\"dataframe\">\n",
       "  <thead>\n",
       "    <tr style=\"text-align: right;\">\n",
       "      <th></th>\n",
       "      <th>ADS</th>\n",
       "      <th>CV</th>\n",
       "      <th>segment</th>\n",
       "    </tr>\n",
       "    <tr>\n",
       "      <th>groups</th>\n",
       "      <th></th>\n",
       "      <th></th>\n",
       "      <th></th>\n",
       "    </tr>\n",
       "  </thead>\n",
       "  <tbody>\n",
       "    <tr>\n",
       "      <th>0</th>\n",
       "      <td>1.882353</td>\n",
       "      <td>0.468039</td>\n",
       "      <td>crickets</td>\n",
       "    </tr>\n",
       "    <tr>\n",
       "      <th>1</th>\n",
       "      <td>9.750000</td>\n",
       "      <td>0.099286</td>\n",
       "      <td>horses</td>\n",
       "    </tr>\n",
       "    <tr>\n",
       "      <th>2</th>\n",
       "      <td>9.142857</td>\n",
       "      <td>0.616667</td>\n",
       "      <td>bulls</td>\n",
       "    </tr>\n",
       "  </tbody>\n",
       "</table>\n",
       "</div>"
      ],
      "text/plain": [
       "             ADS        CV   segment\n",
       "groups                              \n",
       "0       1.882353  0.468039  crickets\n",
       "1       9.750000  0.099286    horses\n",
       "2       9.142857  0.616667     bulls"
      ]
     },
     "execution_count": 17,
     "metadata": {},
     "output_type": "execute_result"
    }
   ],
   "source": [
    "sku_groups['segment'] = ['crickets', 'horses', 'bulls']\n",
    "sku_groups"
   ]
  },
  {
   "cell_type": "markdown",
   "id": "25d5c3cb-4b45-4d9d-9095-b979edbf44d0",
   "metadata": {},
   "source": [
    "The purpose of finding groups within data is to maximize the business efficiency: we want to treat similar cases similarly and different cases specifically!\n",
    "\n",
    "So how can we manage our supply chain differently for those three cluster?\n",
    "1. Products in the horses category should be made quickly available and we should ensure that we have enough in stock. **Make to Stock** 🐎 \n",
    "2. Crickets supply chain have low sales and keeping them in stock can be very expensive -opportunity cost. **Made to Order** 🦗 \n",
    "3. Products in the Bulls category should be treated on a case by case basis. Because of the high volatility of this category it is not possible to come with a general rule. **Case to Case** 🐂 "
   ]
  },
  {
   "cell_type": "markdown",
   "id": "5fcdadc7-ce9d-48c1-8835-d9cce909d8ca",
   "metadata": {},
   "source": [
    "# Summary\n",
    "\n",
    "This first example shows a real life application of hierarchical clustering in the supply chain management. While simple, it shows how powerful such a tool can be. Specially in the business world, where any incremental percentage of efficiency gains may be a competitive asset. Of course we could elaborate more on this and fine-tune our categorization by using for instance the %-sales and the cost of goods sold, but that wasn't the objective of this little tutorial."
   ]
  }
 ],
 "metadata": {
  "kernelspec": {
   "display_name": "Python 3",
   "language": "python",
   "name": "python3"
  },
  "language_info": {
   "codemirror_mode": {
    "name": "ipython",
    "version": 3
   },
   "file_extension": ".py",
   "mimetype": "text/x-python",
   "name": "python",
   "nbconvert_exporter": "python",
   "pygments_lexer": "ipython3",
   "version": "3.9.4"
  }
 },
 "nbformat": 4,
 "nbformat_minor": 5
}
