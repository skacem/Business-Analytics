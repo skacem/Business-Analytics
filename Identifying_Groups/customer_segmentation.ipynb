{
 "cells": [
  {
   "cell_type": "code",
   "execution_count": 1,
   "id": "fb70b537-b1e1-4c04-b1f2-12d52e2350a4",
   "metadata": {},
   "outputs": [],
   "source": [
    "import numpy as np\n",
    "import pandas as pd\n",
    "import matplotlib.pyplot as plt\n",
    "from pandasql import sqldf\n",
    "from sklearn.preprocessing import scale\n",
    "from scipy.spatial.distance import pdist\n",
    "from scipy.cluster.hierarchy import dendrogram , linkage, cut_tree\n",
    "import squarify"
   ]
  },
  {
   "cell_type": "code",
   "execution_count": 2,
   "id": "a157b8f9-dadd-48d1-92c3-3fb3e579eeb2",
   "metadata": {},
   "outputs": [],
   "source": [
    "pysqldf = lambda q: sqldf(q, globals())\n",
    "%precision %.2f\n",
    "pd.options.display.float_format = '{:,.2f}'.format\n",
    "plt.rcParams[\"figure.figsize\"] = (12,8)"
   ]
  },
  {
   "cell_type": "markdown",
   "id": "36a3ea21-b614-436f-9efd-2d88fbfad2d2",
   "metadata": {},
   "source": [
    "# Data Wrangling"
   ]
  },
  {
   "cell_type": "code",
   "execution_count": 3,
   "id": "0951a9bb-abd1-48b6-8a81-66fb05637612",
   "metadata": {},
   "outputs": [],
   "source": [
    "# we start with reading our dataset from the csv file\n",
    "headers = ['customer_id', 'purchase_amount', 'date_of_purchase']\n",
    "df = pd.read_csv('../Datasets/purchases.txt', header=None, \n",
    "                 names=headers, sep='\\t')"
   ]
  },
  {
   "cell_type": "code",
   "execution_count": 4,
   "id": "e2f5d1ae-29c9-47b8-b443-63490ce40570",
   "metadata": {},
   "outputs": [
    {
     "data": {
      "text/html": [
       "<div>\n",
       "<style scoped>\n",
       "    .dataframe tbody tr th:only-of-type {\n",
       "        vertical-align: middle;\n",
       "    }\n",
       "\n",
       "    .dataframe tbody tr th {\n",
       "        vertical-align: top;\n",
       "    }\n",
       "\n",
       "    .dataframe thead th {\n",
       "        text-align: right;\n",
       "    }\n",
       "</style>\n",
       "<table border=\"1\" class=\"dataframe\">\n",
       "  <thead>\n",
       "    <tr style=\"text-align: right;\">\n",
       "      <th></th>\n",
       "      <th>customer_id</th>\n",
       "      <th>purchase_amount</th>\n",
       "      <th>date_of_purchase</th>\n",
       "    </tr>\n",
       "  </thead>\n",
       "  <tbody>\n",
       "    <tr>\n",
       "      <th>0</th>\n",
       "      <td>760</td>\n",
       "      <td>25.00</td>\n",
       "      <td>2009-11-06</td>\n",
       "    </tr>\n",
       "    <tr>\n",
       "      <th>1</th>\n",
       "      <td>860</td>\n",
       "      <td>50.00</td>\n",
       "      <td>2012-09-28</td>\n",
       "    </tr>\n",
       "    <tr>\n",
       "      <th>2</th>\n",
       "      <td>1200</td>\n",
       "      <td>100.00</td>\n",
       "      <td>2005-10-25</td>\n",
       "    </tr>\n",
       "    <tr>\n",
       "      <th>3</th>\n",
       "      <td>1420</td>\n",
       "      <td>50.00</td>\n",
       "      <td>2009-07-09</td>\n",
       "    </tr>\n",
       "    <tr>\n",
       "      <th>4</th>\n",
       "      <td>1940</td>\n",
       "      <td>70.00</td>\n",
       "      <td>2013-01-25</td>\n",
       "    </tr>\n",
       "  </tbody>\n",
       "</table>\n",
       "</div>"
      ],
      "text/plain": [
       "   customer_id  purchase_amount date_of_purchase\n",
       "0          760            25.00       2009-11-06\n",
       "1          860            50.00       2012-09-28\n",
       "2         1200           100.00       2005-10-25\n",
       "3         1420            50.00       2009-07-09\n",
       "4         1940            70.00       2013-01-25"
      ]
     },
     "execution_count": 4,
     "metadata": {},
     "output_type": "execute_result"
    }
   ],
   "source": [
    "df.head()"
   ]
  },
  {
   "cell_type": "code",
   "execution_count": 5,
   "id": "f2edb943-0375-4332-b034-eb97f21b3dec",
   "metadata": {},
   "outputs": [
    {
     "name": "stdout",
     "output_type": "stream",
     "text": [
      "<class 'pandas.core.frame.DataFrame'>\n",
      "RangeIndex: 51243 entries, 0 to 51242\n",
      "Data columns (total 3 columns):\n",
      " #   Column            Non-Null Count  Dtype  \n",
      "---  ------            --------------  -----  \n",
      " 0   customer_id       51243 non-null  int64  \n",
      " 1   purchase_amount   51243 non-null  float64\n",
      " 2   date_of_purchase  51243 non-null  object \n",
      "dtypes: float64(1), int64(1), object(1)\n",
      "memory usage: 1.2+ MB\n"
     ]
    }
   ],
   "source": [
    "df.info()"
   ]
  },
  {
   "cell_type": "code",
   "execution_count": 6,
   "id": "48e64251-a43c-4371-b5dc-bbbdbb3cbdd8",
   "metadata": {},
   "outputs": [],
   "source": [
    "# Transform the last column to a date object\n",
    "df['date_of_purchase'] = pd.to_datetime(df['date_of_purchase'], \n",
    "                                        format='%Y-%m-%d')"
   ]
  },
  {
   "cell_type": "code",
   "execution_count": 7,
   "id": "e7d91608-f18d-4c7f-ae18-feacd7df75b7",
   "metadata": {},
   "outputs": [],
   "source": [
    "# Extract year of purchase and save it as a column\n",
    "df['year_of_purchase'] = df['date_of_purchase'].dt.year\n",
    "# Add a day_since column showing the difference between last purchase and a basedate\n",
    "basedate = pd.Timestamp('2016-01-01')\n",
    "df['days_since'] = (basedate - df['date_of_purchase']).dt.days"
   ]
  },
  {
   "cell_type": "code",
   "execution_count": 8,
   "id": "57938d85-cfac-465a-a1a2-ea6086b9a0da",
   "metadata": {},
   "outputs": [
    {
     "data": {
      "text/html": [
       "<div>\n",
       "<style scoped>\n",
       "    .dataframe tbody tr th:only-of-type {\n",
       "        vertical-align: middle;\n",
       "    }\n",
       "\n",
       "    .dataframe tbody tr th {\n",
       "        vertical-align: top;\n",
       "    }\n",
       "\n",
       "    .dataframe thead th {\n",
       "        text-align: right;\n",
       "    }\n",
       "</style>\n",
       "<table border=\"1\" class=\"dataframe\">\n",
       "  <thead>\n",
       "    <tr style=\"text-align: right;\">\n",
       "      <th></th>\n",
       "      <th>customer_id</th>\n",
       "      <th>purchase_amount</th>\n",
       "      <th>date_of_purchase</th>\n",
       "      <th>year_of_purchase</th>\n",
       "      <th>days_since</th>\n",
       "    </tr>\n",
       "  </thead>\n",
       "  <tbody>\n",
       "    <tr>\n",
       "      <th>1597</th>\n",
       "      <td>16730</td>\n",
       "      <td>40.00</td>\n",
       "      <td>2006-11-08</td>\n",
       "      <td>2006</td>\n",
       "      <td>3341</td>\n",
       "    </tr>\n",
       "    <tr>\n",
       "      <th>501</th>\n",
       "      <td>99890</td>\n",
       "      <td>20.00</td>\n",
       "      <td>2008-06-18</td>\n",
       "      <td>2008</td>\n",
       "      <td>2753</td>\n",
       "    </tr>\n",
       "    <tr>\n",
       "      <th>38205</th>\n",
       "      <td>165760</td>\n",
       "      <td>60.00</td>\n",
       "      <td>2011-11-25</td>\n",
       "      <td>2011</td>\n",
       "      <td>1498</td>\n",
       "    </tr>\n",
       "    <tr>\n",
       "      <th>6400</th>\n",
       "      <td>47500</td>\n",
       "      <td>15.00</td>\n",
       "      <td>2005-12-28</td>\n",
       "      <td>2005</td>\n",
       "      <td>3656</td>\n",
       "    </tr>\n",
       "    <tr>\n",
       "      <th>18334</th>\n",
       "      <td>9790</td>\n",
       "      <td>30.00</td>\n",
       "      <td>2012-03-03</td>\n",
       "      <td>2012</td>\n",
       "      <td>1399</td>\n",
       "    </tr>\n",
       "  </tbody>\n",
       "</table>\n",
       "</div>"
      ],
      "text/plain": [
       "       customer_id  purchase_amount date_of_purchase  year_of_purchase  \\\n",
       "1597         16730            40.00       2006-11-08              2006   \n",
       "501          99890            20.00       2008-06-18              2008   \n",
       "38205       165760            60.00       2011-11-25              2011   \n",
       "6400         47500            15.00       2005-12-28              2005   \n",
       "18334         9790            30.00       2012-03-03              2012   \n",
       "\n",
       "       days_since  \n",
       "1597         3341  \n",
       "501          2753  \n",
       "38205        1498  \n",
       "6400         3656  \n",
       "18334        1399  "
      ]
     },
     "execution_count": 8,
     "metadata": {},
     "output_type": "execute_result"
    }
   ],
   "source": [
    "# Display 5 randomly selected rows\n",
    "df.sample(n=5, random_state=26)"
   ]
  },
  {
   "cell_type": "code",
   "execution_count": 9,
   "id": "04cfdc2c-1de9-4941-b0cc-3d6aedfc80a8",
   "metadata": {},
   "outputs": [
    {
     "data": {
      "text/html": [
       "<div>\n",
       "<style scoped>\n",
       "    .dataframe tbody tr th:only-of-type {\n",
       "        vertical-align: middle;\n",
       "    }\n",
       "\n",
       "    .dataframe tbody tr th {\n",
       "        vertical-align: top;\n",
       "    }\n",
       "\n",
       "    .dataframe thead th {\n",
       "        text-align: right;\n",
       "    }\n",
       "</style>\n",
       "<table border=\"1\" class=\"dataframe\">\n",
       "  <thead>\n",
       "    <tr style=\"text-align: right;\">\n",
       "      <th></th>\n",
       "      <th>customer_id</th>\n",
       "      <th>purchase_amount</th>\n",
       "      <th>year_of_purchase</th>\n",
       "      <th>days_since</th>\n",
       "    </tr>\n",
       "  </thead>\n",
       "  <tbody>\n",
       "    <tr>\n",
       "      <th>count</th>\n",
       "      <td>51,243.00</td>\n",
       "      <td>51,243.00</td>\n",
       "      <td>51,243.00</td>\n",
       "      <td>51,243.00</td>\n",
       "    </tr>\n",
       "    <tr>\n",
       "      <th>mean</th>\n",
       "      <td>108,934.55</td>\n",
       "      <td>62.34</td>\n",
       "      <td>2,010.87</td>\n",
       "      <td>1,631.94</td>\n",
       "    </tr>\n",
       "    <tr>\n",
       "      <th>std</th>\n",
       "      <td>67,650.61</td>\n",
       "      <td>156.61</td>\n",
       "      <td>2.88</td>\n",
       "      <td>1,061.08</td>\n",
       "    </tr>\n",
       "    <tr>\n",
       "      <th>min</th>\n",
       "      <td>10.00</td>\n",
       "      <td>5.00</td>\n",
       "      <td>2,005.00</td>\n",
       "      <td>1.00</td>\n",
       "    </tr>\n",
       "    <tr>\n",
       "      <th>25%</th>\n",
       "      <td>57,720.00</td>\n",
       "      <td>25.00</td>\n",
       "      <td>2,009.00</td>\n",
       "      <td>733.00</td>\n",
       "    </tr>\n",
       "    <tr>\n",
       "      <th>50%</th>\n",
       "      <td>102,440.00</td>\n",
       "      <td>30.00</td>\n",
       "      <td>2,011.00</td>\n",
       "      <td>1,500.00</td>\n",
       "    </tr>\n",
       "    <tr>\n",
       "      <th>75%</th>\n",
       "      <td>160,525.00</td>\n",
       "      <td>60.00</td>\n",
       "      <td>2,013.00</td>\n",
       "      <td>2,540.00</td>\n",
       "    </tr>\n",
       "    <tr>\n",
       "      <th>max</th>\n",
       "      <td>264,200.00</td>\n",
       "      <td>4,500.00</td>\n",
       "      <td>2,015.00</td>\n",
       "      <td>4,016.00</td>\n",
       "    </tr>\n",
       "  </tbody>\n",
       "</table>\n",
       "</div>"
      ],
      "text/plain": [
       "       customer_id  purchase_amount  year_of_purchase  days_since\n",
       "count    51,243.00        51,243.00         51,243.00   51,243.00\n",
       "mean    108,934.55            62.34          2,010.87    1,631.94\n",
       "std      67,650.61           156.61              2.88    1,061.08\n",
       "min          10.00             5.00          2,005.00        1.00\n",
       "25%      57,720.00            25.00          2,009.00      733.00\n",
       "50%     102,440.00            30.00          2,011.00    1,500.00\n",
       "75%     160,525.00            60.00          2,013.00    2,540.00\n",
       "max     264,200.00         4,500.00          2,015.00    4,016.00"
      ]
     },
     "execution_count": 9,
     "metadata": {},
     "output_type": "execute_result"
    }
   ],
   "source": [
    "# Summary statistics\n",
    "df.describe()"
   ]
  },
  {
   "cell_type": "markdown",
   "id": "24ebe44f-b998-462e-8258-dff92a63b180",
   "metadata": {},
   "source": [
    "# RFM Calculation\n",
    "\n",
    "To implement the RFM analysis, further data processing need to be done.\n",
    "\n",
    "Next we are going to compute the customers recency, frequency and average purchase amount. This part is a big tricky specially when it's done with pandas.\n",
    "\n",
    "The trick here is that the customer ID will only appear once for every customer. So even though we have 51,000 purchases we'll only have as many unique customer IDs as there are in the database.\n",
    "\n",
    "Now, for each customer, we need to compute the minimum number of days between all of his or her purchases and january 1st, 2016. Of course, if we take the minimum number of days, then we are going to have the day of the last purchase, which is the very definition of recency."
   ]
  },
  {
   "cell_type": "markdown",
   "id": "75253067-542a-4aad-bb97-ab2757b7b02c",
   "metadata": {},
   "source": [
    "Then for each customer we need to compute the frequency, which is basically how many purchases that customer has made.\n",
    "\n",
    "This is going to be done with the python sql module:"
   ]
  },
  {
   "cell_type": "code",
   "execution_count": 10,
   "id": "63f3ca11-3e77-4e5c-a2e4-830c6e97a285",
   "metadata": {},
   "outputs": [],
   "source": [
    "# Compute recency, frequency, and average purchase amount\n",
    "q = \"\"\"\n",
    "        SELECT customer_id,\n",
    "        MIN(days_since) AS 'recency',\n",
    "        COUNT(*) AS 'frequency',\n",
    "        AVG(purchase_amount) AS 'amount'\n",
    "        FROM df GROUP BY 1\"\"\"\n",
    "customers = sqldf(q)"
   ]
  },
  {
   "cell_type": "markdown",
   "id": "af921447-1e0b-4dc7-969b-449a50beee88",
   "metadata": {},
   "source": [
    "The asterisk here basically means anything in the data that is related to that customer we could have put any known variable here, it wouldn't change and then for the amount we computed the average of purchase amount for that specific customer ID and name that aggregate computation as amount. \n",
    "\n",
    "Now, the trick is that we'd like to make sure that each row only appears one for each customer. So we going to compute that from the data and group by one, meaning that everything here is going to be computed and grouped per customer ID."
   ]
  },
  {
   "cell_type": "code",
   "execution_count": 11,
   "id": "0a214881-7a2e-4490-9369-166bbe4765e7",
   "metadata": {},
   "outputs": [
    {
     "data": {
      "text/html": [
       "<div>\n",
       "<style scoped>\n",
       "    .dataframe tbody tr th:only-of-type {\n",
       "        vertical-align: middle;\n",
       "    }\n",
       "\n",
       "    .dataframe tbody tr th {\n",
       "        vertical-align: top;\n",
       "    }\n",
       "\n",
       "    .dataframe thead th {\n",
       "        text-align: right;\n",
       "    }\n",
       "</style>\n",
       "<table border=\"1\" class=\"dataframe\">\n",
       "  <thead>\n",
       "    <tr style=\"text-align: right;\">\n",
       "      <th></th>\n",
       "      <th>customer_id</th>\n",
       "      <th>recency</th>\n",
       "      <th>frequency</th>\n",
       "      <th>amount</th>\n",
       "    </tr>\n",
       "  </thead>\n",
       "  <tbody>\n",
       "    <tr>\n",
       "      <th>0</th>\n",
       "      <td>10</td>\n",
       "      <td>3829</td>\n",
       "      <td>1</td>\n",
       "      <td>30.00</td>\n",
       "    </tr>\n",
       "    <tr>\n",
       "      <th>1</th>\n",
       "      <td>80</td>\n",
       "      <td>343</td>\n",
       "      <td>7</td>\n",
       "      <td>71.43</td>\n",
       "    </tr>\n",
       "    <tr>\n",
       "      <th>2</th>\n",
       "      <td>90</td>\n",
       "      <td>758</td>\n",
       "      <td>10</td>\n",
       "      <td>115.80</td>\n",
       "    </tr>\n",
       "    <tr>\n",
       "      <th>3</th>\n",
       "      <td>120</td>\n",
       "      <td>1401</td>\n",
       "      <td>1</td>\n",
       "      <td>20.00</td>\n",
       "    </tr>\n",
       "    <tr>\n",
       "      <th>4</th>\n",
       "      <td>130</td>\n",
       "      <td>2970</td>\n",
       "      <td>2</td>\n",
       "      <td>50.00</td>\n",
       "    </tr>\n",
       "  </tbody>\n",
       "</table>\n",
       "</div>"
      ],
      "text/plain": [
       "   customer_id  recency  frequency  amount\n",
       "0           10     3829          1   30.00\n",
       "1           80      343          7   71.43\n",
       "2           90      758         10  115.80\n",
       "3          120     1401          1   20.00\n",
       "4          130     2970          2   50.00"
      ]
     },
     "execution_count": 11,
     "metadata": {},
     "output_type": "execute_result"
    }
   ],
   "source": [
    "customers.head()"
   ]
  },
  {
   "cell_type": "markdown",
   "id": "1a98f17c-bf7d-40fe-a47d-857ab393fdc5",
   "metadata": {},
   "source": [
    "# EDA"
   ]
  },
  {
   "cell_type": "code",
   "execution_count": 12,
   "id": "593234c7-9869-485e-b957-e60ed9fa07cf",
   "metadata": {},
   "outputs": [
    {
     "data": {
      "text/html": [
       "<div>\n",
       "<style scoped>\n",
       "    .dataframe tbody tr th:only-of-type {\n",
       "        vertical-align: middle;\n",
       "    }\n",
       "\n",
       "    .dataframe tbody tr th {\n",
       "        vertical-align: top;\n",
       "    }\n",
       "\n",
       "    .dataframe thead th {\n",
       "        text-align: right;\n",
       "    }\n",
       "</style>\n",
       "<table border=\"1\" class=\"dataframe\">\n",
       "  <thead>\n",
       "    <tr style=\"text-align: right;\">\n",
       "      <th></th>\n",
       "      <th>recency</th>\n",
       "      <th>frequency</th>\n",
       "      <th>amount</th>\n",
       "    </tr>\n",
       "  </thead>\n",
       "  <tbody>\n",
       "    <tr>\n",
       "      <th>count</th>\n",
       "      <td>18,417.00</td>\n",
       "      <td>18,417.00</td>\n",
       "      <td>18,417.00</td>\n",
       "    </tr>\n",
       "    <tr>\n",
       "      <th>mean</th>\n",
       "      <td>1,253.04</td>\n",
       "      <td>2.78</td>\n",
       "      <td>57.79</td>\n",
       "    </tr>\n",
       "    <tr>\n",
       "      <th>std</th>\n",
       "      <td>1,081.44</td>\n",
       "      <td>2.94</td>\n",
       "      <td>154.36</td>\n",
       "    </tr>\n",
       "    <tr>\n",
       "      <th>min</th>\n",
       "      <td>1.00</td>\n",
       "      <td>1.00</td>\n",
       "      <td>5.00</td>\n",
       "    </tr>\n",
       "    <tr>\n",
       "      <th>25%</th>\n",
       "      <td>244.00</td>\n",
       "      <td>1.00</td>\n",
       "      <td>21.67</td>\n",
       "    </tr>\n",
       "    <tr>\n",
       "      <th>50%</th>\n",
       "      <td>1,070.00</td>\n",
       "      <td>2.00</td>\n",
       "      <td>30.00</td>\n",
       "    </tr>\n",
       "    <tr>\n",
       "      <th>75%</th>\n",
       "      <td>2,130.00</td>\n",
       "      <td>3.00</td>\n",
       "      <td>50.00</td>\n",
       "    </tr>\n",
       "    <tr>\n",
       "      <th>max</th>\n",
       "      <td>4,014.00</td>\n",
       "      <td>45.00</td>\n",
       "      <td>4,500.00</td>\n",
       "    </tr>\n",
       "  </tbody>\n",
       "</table>\n",
       "</div>"
      ],
      "text/plain": [
       "        recency  frequency    amount\n",
       "count 18,417.00  18,417.00 18,417.00\n",
       "mean   1,253.04       2.78     57.79\n",
       "std    1,081.44       2.94    154.36\n",
       "min        1.00       1.00      5.00\n",
       "25%      244.00       1.00     21.67\n",
       "50%    1,070.00       2.00     30.00\n",
       "75%    2,130.00       3.00     50.00\n",
       "max    4,014.00      45.00  4,500.00"
      ]
     },
     "execution_count": 12,
     "metadata": {},
     "output_type": "execute_result"
    }
   ],
   "source": [
    "customers[['recency', 'frequency', 'amount']].describe()"
   ]
  },
  {
   "cell_type": "code",
   "execution_count": 13,
   "id": "5afa3643-d9cf-4f25-9414-91474518070e",
   "metadata": {
    "tags": []
   },
   "outputs": [
    {
     "data": {
      "image/png": "[encoded data removed]",
      "text/plain": [
       "<Figure size 864x576 with 1 Axes>"
      ]
     },
     "metadata": {
      "needs_background": "light"
     },
     "output_type": "display_data"
    }
   ],
   "source": [
    "customers.hist(column='recency', bins=31)\n",
    "plt.ylabel('Customers', fontsize=15)\n",
    "plt.xlabel('Days Since Last Purchase', fontsize=15)\n",
    "plt.xlim(0,);"
   ]
  },
  {
   "cell_type": "code",
   "execution_count": 14,
   "id": "5ca64709-e5c3-4cd6-be25-52a696014ca1",
   "metadata": {},
   "outputs": [
    {
     "data": {
      "image/png": "[encoded data removed]",
      "text/plain": [
       "<Figure size 864x576 with 1 Axes>"
      ]
     },
     "metadata": {
      "needs_background": "light"
     },
     "output_type": "display_data"
    }
   ],
   "source": [
    "customers.hist(column='frequency', bins=41)\n",
    "plt.ylabel('Customers', fontsize=15)\n",
    "plt.xlabel('Number of Purchases', fontsize=15)\n",
    "plt.xlim(0,20);"
   ]
  },
  {
   "cell_type": "code",
   "execution_count": 15,
   "id": "44d9459f-eae4-418e-836e-0995dfe8e549",
   "metadata": {},
   "outputs": [
    {
     "data": {
      "image/png": "[encoded data removed]",
      "text/plain": [
       "<Figure size 864x576 with 1 Axes>"
      ]
     },
     "metadata": {
      "needs_background": "light"
     },
     "output_type": "display_data"
    }
   ],
   "source": [
    "customers.hist(column='amount', bins=601)\n",
    "plt.ylabel('Customers', fontsize=15)\n",
    "plt.xlabel('Average Amount in $', fontsize=15)\n",
    "plt.xlim(0,400)\n",
    "plt.ylim(0,);"
   ]
  },
  {
   "cell_type": "markdown",
   "id": "7e5be09e-dfa9-475b-8f50-6bd459b3d162",
   "metadata": {},
   "source": [
    "# HCA"
   ]
  },
  {
   "cell_type": "markdown",
   "id": "8ec4a776-aa77-4178-bf1c-fe350f84ba81",
   "metadata": {},
   "source": [
    "## Data Transformation"
   ]
  },
  {
   "cell_type": "code",
   "execution_count": 16,
   "id": "2251f5c0-0eab-482a-b281-096c8f0b5ff6",
   "metadata": {},
   "outputs": [],
   "source": [
    "# let's copy the data before starting the transformation\n",
    "new_data = customers.copy()\n",
    "new_data.set_index('customer_id', inplace=True)"
   ]
  },
  {
   "cell_type": "markdown",
   "id": "7f7fece3-f9bd-47e7-a0b5-95fa059ba9eb",
   "metadata": {},
   "source": [
    "Data transformation is an essantial part of segmentation. We need to prepare and transform our data, so the segmentation variables can be compared to one another.\n",
    "\n",
    "Since our segmentation variables don't use the same scales, we have to standardize them. In statistical terms, to standardize means that we subtract the mean and divide by the standard deviation. Now, regardles of what the original scale was in days, dollar, or number of purchase, they can be compared to another."
   ]
  },
  {
   "cell_type": "markdown",
   "id": "1aa7c0d9-6c41-4979-aca7-6e6292828575",
   "metadata": {},
   "source": [
    "Another issue to deal with is data dispersion or skewed data. Skew is the degree of distortion from a normal distribution. In the plot above we can see that the average amount of purchase in \\\\$ is right skewed, meaning there are a minority of very large values. When data is extremely skewed, it might be unuseful for segmentation purpose\n",
    "\n",
    "When we are facing this kind of situation, it might be worth transforming the data into a logarithmic scale."
   ]
  },
  {
   "cell_type": "code",
   "execution_count": 17,
   "id": "81aaa715-679a-4264-aeb1-9d138fc33d5e",
   "metadata": {},
   "outputs": [],
   "source": [
    "# Let's the log of the amount and plot again our data\n",
    "new_data['amount'] = np.log10(new_data['amount'])"
   ]
  },
  {
   "cell_type": "code",
   "execution_count": 18,
   "id": "38198d4d-6fb1-4ec9-9241-9a09c16a7a1b",
   "metadata": {},
   "outputs": [
    {
     "data": {
      "image/png": "[encoded data removed]",
      "text/plain": [
       "<Figure size 864x576 with 1 Axes>"
      ]
     },
     "metadata": {
      "needs_background": "light"
     },
     "output_type": "display_data"
    }
   ],
   "source": [
    "# plot\n",
    "ax, fig = plt.subplots()\n",
    "new_data['amount'].plot(kind='hist', density=True, bins=40)\n",
    "new_data['amount'].plot(kind='kde')\n",
    "\n",
    "plt.xlim(0,4)\n",
    "plt.ylim(0,);"
   ]
  },
  {
   "cell_type": "markdown",
   "id": "4b1d2dae-3bf2-43d4-a6f3-1285043484c3",
   "metadata": {},
   "source": [
    "From the plot above we can see that after the transformation our data became more symmetrical and less skewed"
   ]
  },
  {
   "cell_type": "code",
   "execution_count": 19,
   "id": "dd6a4b17-3361-4c28-96dd-f654a50c0906",
   "metadata": {},
   "outputs": [
    {
     "name": "stdout",
     "output_type": "stream",
     "text": [
      "Dimension of the distance matrix: (339185889, 3)\n"
     ]
    }
   ],
   "source": [
    "# Now we scale our data and we save it as dataframe:\n",
    "new_data = pd.DataFrame(scale(new_data), index=new_data.index, \n",
    "                        columns=new_data.columns)\n",
    "# computing the distance would generate a huge matrix:\n",
    "print(f'Dimension of the distance matrix: ({new_data.shape[0]**2}, {new_data.shape[1]})')"
   ]
  },
  {
   "cell_type": "code",
   "execution_count": 20,
   "id": "dc819c8a-b9f6-4b3c-b256-fcd70873dd65",
   "metadata": {},
   "outputs": [
    {
     "data": {
      "text/plain": [
       "array([ 0, 10, 20, 30, 40, 50, 60, 70, 80, 90])"
      ]
     },
     "execution_count": 20,
     "metadata": {},
     "output_type": "execute_result"
    }
   ],
   "source": [
    "# Since the distance matrix is that huge, \n",
    "# we are sampling with a sampling rate of 10\\\\%\n",
    "sample = np.arange(0, 18417, 10)\n",
    "sample[:10]"
   ]
  },
  {
   "cell_type": "code",
   "execution_count": 21,
   "id": "3fbe6191-327f-4de2-b2e3-95c59ebcbbc8",
   "metadata": {},
   "outputs": [
    {
     "data": {
      "text/html": [
       "<div>\n",
       "<style scoped>\n",
       "    .dataframe tbody tr th:only-of-type {\n",
       "        vertical-align: middle;\n",
       "    }\n",
       "\n",
       "    .dataframe tbody tr th {\n",
       "        vertical-align: top;\n",
       "    }\n",
       "\n",
       "    .dataframe thead th {\n",
       "        text-align: right;\n",
       "    }\n",
       "</style>\n",
       "<table border=\"1\" class=\"dataframe\">\n",
       "  <thead>\n",
       "    <tr style=\"text-align: right;\">\n",
       "      <th></th>\n",
       "      <th>recency</th>\n",
       "      <th>frequency</th>\n",
       "      <th>amount</th>\n",
       "    </tr>\n",
       "    <tr>\n",
       "      <th>customer_id</th>\n",
       "      <th></th>\n",
       "      <th></th>\n",
       "      <th></th>\n",
       "    </tr>\n",
       "  </thead>\n",
       "  <tbody>\n",
       "    <tr>\n",
       "      <th>10</th>\n",
       "      <td>2.38</td>\n",
       "      <td>-0.61</td>\n",
       "      <td>-0.24</td>\n",
       "    </tr>\n",
       "    <tr>\n",
       "      <th>260</th>\n",
       "      <td>2.27</td>\n",
       "      <td>-0.61</td>\n",
       "      <td>-1.14</td>\n",
       "    </tr>\n",
       "    <tr>\n",
       "      <th>510</th>\n",
       "      <td>2.26</td>\n",
       "      <td>-0.61</td>\n",
       "      <td>-0.24</td>\n",
       "    </tr>\n",
       "    <tr>\n",
       "      <th>850</th>\n",
       "      <td>-1.14</td>\n",
       "      <td>2.46</td>\n",
       "      <td>-0.30</td>\n",
       "    </tr>\n",
       "    <tr>\n",
       "      <th>1040</th>\n",
       "      <td>-1.11</td>\n",
       "      <td>0.41</td>\n",
       "      <td>0.22</td>\n",
       "    </tr>\n",
       "  </tbody>\n",
       "</table>\n",
       "</div>"
      ],
      "text/plain": [
       "             recency  frequency  amount\n",
       "customer_id                            \n",
       "10              2.38      -0.61   -0.24\n",
       "260             2.27      -0.61   -1.14\n",
       "510             2.26      -0.61   -0.24\n",
       "850            -1.14       2.46   -0.30\n",
       "1040           -1.11       0.41    0.22"
      ]
     },
     "execution_count": 21,
     "metadata": {},
     "output_type": "execute_result"
    }
   ],
   "source": [
    "new_data_sample = new_data.iloc[sample]\n",
    "new_data_sample.head()"
   ]
  },
  {
   "cell_type": "code",
   "execution_count": 22,
   "id": "f18d7d55-110f-4ebf-aa7a-65b77afc5fa3",
   "metadata": {},
   "outputs": [],
   "source": [
    "customers_sample = customers.iloc[sample].copy()\n",
    "# we compute the distances on the sampled data\n",
    "d = pdist(new_data_sample) # default metric is euclidean\n",
    "# and we perform the hierarchical clustering:\n",
    "hcward = linkage(d, method='ward')"
   ]
  },
  {
   "cell_type": "markdown",
   "id": "271f6927-5cff-4d6b-8bea-b9e9ed26e07c",
   "metadata": {},
   "source": [
    "## The Dendogram"
   ]
  },
  {
   "cell_type": "code",
   "execution_count": 23,
   "id": "ce6d4c48-4d6b-426a-b821-994ecd1897a1",
   "metadata": {},
   "outputs": [
    {
     "data": {
      "image/png": "[encoded data removed]",
      "text/plain": [
       "<Figure size 864x576 with 1 Axes>"
      ]
     },
     "metadata": {
      "needs_background": "light"
     },
     "output_type": "display_data"
    }
   ],
   "source": [
    "# Plot dendrogram\n",
    "plt.title(\"Customer Dendrogram - Truncated\")\n",
    "dend = dendrogram(hcward, \n",
    "                  truncate_mode='lastp',\n",
    "                  p = 45,\n",
    "                  show_contracted=True,\n",
    "                  leaf_rotation=90,\n",
    "                  leaf_font_size=12);\n",
    "plt.xlabel('Customer ID')\n",
    "plt.ylabel('Distance');"
   ]
  },
  {
   "cell_type": "markdown",
   "id": "b46f16ba-5f02-45e6-91ef-045a21cb9bc4",
   "metadata": {},
   "source": [
    "## Determining the Number of Clusters\n",
    "\n",
    "In RFM models it is usual to choose 11 clusters as recommended by [PULTER](https://bit.ly/32UPdhu) and other experts. They also provide a well-documented customer segment table with the description of each segment as well as a list of marketing actions corresponding to each segment. \n",
    "\n",
    "However, it doesn't have to be 11. When we start profiling we can tell if 11 was a good choice or not.\n",
    "\n",
    "Remember: When it comes to cut-off selection there is no golden method on how to pick the perfect number of clusters. What matters is to use the right clustering approach for the business problem at hand and that your conclusions are actionable."
   ]
  },
  {
   "cell_type": "code",
   "execution_count": 24,
   "id": "c608f9e8-49c5-4a57-8a80-510f221b147c",
   "metadata": {},
   "outputs": [],
   "source": [
    "# Cut at 11 clusters\n",
    "members = cut_tree(hcward, n_clusters=11)"
   ]
  },
  {
   "cell_type": "markdown",
   "id": "ef906b72-479d-460d-93eb-5b06c70a2c7a",
   "metadata": {},
   "source": [
    "## Capture the Clusters"
   ]
  },
  {
   "cell_type": "code",
   "execution_count": 25,
   "id": "b99f0f25-5cf2-4949-92bb-1fa7efe6a2d2",
   "metadata": {},
   "outputs": [
    {
     "data": {
      "text/html": [
       "<div>\n",
       "<style scoped>\n",
       "    .dataframe tbody tr th:only-of-type {\n",
       "        vertical-align: middle;\n",
       "    }\n",
       "\n",
       "    .dataframe tbody tr th {\n",
       "        vertical-align: top;\n",
       "    }\n",
       "\n",
       "    .dataframe thead th {\n",
       "        text-align: right;\n",
       "    }\n",
       "</style>\n",
       "<table border=\"1\" class=\"dataframe\">\n",
       "  <thead>\n",
       "    <tr style=\"text-align: right;\">\n",
       "      <th></th>\n",
       "      <th>customer_id</th>\n",
       "      <th>recency</th>\n",
       "      <th>frequency</th>\n",
       "      <th>amount</th>\n",
       "      <th>group</th>\n",
       "    </tr>\n",
       "  </thead>\n",
       "  <tbody>\n",
       "    <tr>\n",
       "      <th>0</th>\n",
       "      <td>10</td>\n",
       "      <td>3829</td>\n",
       "      <td>1</td>\n",
       "      <td>30.00</td>\n",
       "      <td>0</td>\n",
       "    </tr>\n",
       "    <tr>\n",
       "      <th>10</th>\n",
       "      <td>260</td>\n",
       "      <td>3710</td>\n",
       "      <td>1</td>\n",
       "      <td>15.00</td>\n",
       "      <td>1</td>\n",
       "    </tr>\n",
       "    <tr>\n",
       "      <th>20</th>\n",
       "      <td>510</td>\n",
       "      <td>3698</td>\n",
       "      <td>1</td>\n",
       "      <td>30.00</td>\n",
       "      <td>0</td>\n",
       "    </tr>\n",
       "    <tr>\n",
       "      <th>30</th>\n",
       "      <td>850</td>\n",
       "      <td>24</td>\n",
       "      <td>10</td>\n",
       "      <td>28.50</td>\n",
       "      <td>2</td>\n",
       "    </tr>\n",
       "    <tr>\n",
       "      <th>40</th>\n",
       "      <td>1040</td>\n",
       "      <td>56</td>\n",
       "      <td>4</td>\n",
       "      <td>42.50</td>\n",
       "      <td>3</td>\n",
       "    </tr>\n",
       "  </tbody>\n",
       "</table>\n",
       "</div>"
      ],
      "text/plain": [
       "    customer_id  recency  frequency  amount  group\n",
       "0            10     3829          1   30.00      0\n",
       "10          260     3710          1   15.00      1\n",
       "20          510     3698          1   30.00      0\n",
       "30          850       24         10   28.50      2\n",
       "40         1040       56          4   42.50      3"
      ]
     },
     "execution_count": 25,
     "metadata": {},
     "output_type": "execute_result"
    }
   ],
   "source": [
    "# Assign to each customer a group\n",
    "groups, counts = np.unique(members, return_counts=True)\n",
    "segments = dict(zip(groups, counts))\n",
    "customers_sample['group'] = members.flatten()\n",
    "customers_sample.head()"
   ]
  },
  {
   "cell_type": "code",
   "execution_count": 26,
   "id": "b0af916a-eeee-4dc5-9a29-5a9947ae3d35",
   "metadata": {},
   "outputs": [
    {
     "data": {
      "text/html": [
       "<div>\n",
       "<style scoped>\n",
       "    .dataframe tbody tr th:only-of-type {\n",
       "        vertical-align: middle;\n",
       "    }\n",
       "\n",
       "    .dataframe tbody tr th {\n",
       "        vertical-align: top;\n",
       "    }\n",
       "\n",
       "    .dataframe thead th {\n",
       "        text-align: right;\n",
       "    }\n",
       "</style>\n",
       "<table border=\"1\" class=\"dataframe\">\n",
       "  <thead>\n",
       "    <tr style=\"text-align: right;\">\n",
       "      <th></th>\n",
       "      <th>recency</th>\n",
       "      <th>frequency</th>\n",
       "      <th>amount</th>\n",
       "    </tr>\n",
       "    <tr>\n",
       "      <th>group</th>\n",
       "      <th></th>\n",
       "      <th></th>\n",
       "      <th></th>\n",
       "    </tr>\n",
       "  </thead>\n",
       "  <tbody>\n",
       "    <tr>\n",
       "      <th>0</th>\n",
       "      <td>2,563.24</td>\n",
       "      <td>1.28</td>\n",
       "      <td>37.78</td>\n",
       "    </tr>\n",
       "    <tr>\n",
       "      <th>1</th>\n",
       "      <td>2,684.29</td>\n",
       "      <td>1.31</td>\n",
       "      <td>16.26</td>\n",
       "    </tr>\n",
       "    <tr>\n",
       "      <th>2</th>\n",
       "      <td>202.55</td>\n",
       "      <td>9.86</td>\n",
       "      <td>42.48</td>\n",
       "    </tr>\n",
       "    <tr>\n",
       "      <th>3</th>\n",
       "      <td>162.10</td>\n",
       "      <td>2.40</td>\n",
       "      <td>41.11</td>\n",
       "    </tr>\n",
       "    <tr>\n",
       "      <th>4</th>\n",
       "      <td>2,567.04</td>\n",
       "      <td>1.86</td>\n",
       "      <td>214.86</td>\n",
       "    </tr>\n",
       "    <tr>\n",
       "      <th>5</th>\n",
       "      <td>448.58</td>\n",
       "      <td>6.58</td>\n",
       "      <td>261.22</td>\n",
       "    </tr>\n",
       "    <tr>\n",
       "      <th>6</th>\n",
       "      <td>1,653.88</td>\n",
       "      <td>3.55</td>\n",
       "      <td>35.70</td>\n",
       "    </tr>\n",
       "    <tr>\n",
       "      <th>7</th>\n",
       "      <td>507.18</td>\n",
       "      <td>5.61</td>\n",
       "      <td>22.56</td>\n",
       "    </tr>\n",
       "    <tr>\n",
       "      <th>8</th>\n",
       "      <td>922.83</td>\n",
       "      <td>1.28</td>\n",
       "      <td>22.43</td>\n",
       "    </tr>\n",
       "    <tr>\n",
       "      <th>9</th>\n",
       "      <td>74.00</td>\n",
       "      <td>20.78</td>\n",
       "      <td>35.80</td>\n",
       "    </tr>\n",
       "    <tr>\n",
       "      <th>10</th>\n",
       "      <td>799.34</td>\n",
       "      <td>1.40</td>\n",
       "      <td>87.43</td>\n",
       "    </tr>\n",
       "  </tbody>\n",
       "</table>\n",
       "</div>"
      ],
      "text/plain": [
       "       recency  frequency  amount\n",
       "group                            \n",
       "0     2,563.24       1.28   37.78\n",
       "1     2,684.29       1.31   16.26\n",
       "2       202.55       9.86   42.48\n",
       "3       162.10       2.40   41.11\n",
       "4     2,567.04       1.86  214.86\n",
       "5       448.58       6.58  261.22\n",
       "6     1,653.88       3.55   35.70\n",
       "7       507.18       5.61   22.56\n",
       "8       922.83       1.28   22.43\n",
       "9        74.00      20.78   35.80\n",
       "10      799.34       1.40   87.43"
      ]
     },
     "execution_count": 26,
     "metadata": {},
     "output_type": "execute_result"
    }
   ],
   "source": [
    "# Create a table with the obtained groups and their characteristics\n",
    "clusters = customers_sample[['recency', 'frequency', 'amount', 'group']].groupby('group').mean()\n",
    "clusters"
   ]
  },
  {
   "cell_type": "markdown",
   "id": "fe9dfd81-2e94-451a-86b2-8a3646ae5e81",
   "metadata": {},
   "source": [
    "## Clusters Profiling"
   ]
  },
  {
   "cell_type": "markdown",
   "id": "e5762946-9f99-4b27-890d-2bb57a882b2b",
   "metadata": {},
   "source": [
    "Now we have to do some cluster profiling."
   ]
  },
  {
   "cell_type": "code",
   "execution_count": 27,
   "id": "14e5b79a-bd7b-495d-be34-a6377aedf5eb",
   "metadata": {},
   "outputs": [
    {
     "data": {
      "text/html": [
       "<div>\n",
       "<style scoped>\n",
       "    .dataframe tbody tr th:only-of-type {\n",
       "        vertical-align: middle;\n",
       "    }\n",
       "\n",
       "    .dataframe tbody tr th {\n",
       "        vertical-align: top;\n",
       "    }\n",
       "\n",
       "    .dataframe thead th {\n",
       "        text-align: right;\n",
       "    }\n",
       "</style>\n",
       "<table border=\"1\" class=\"dataframe\">\n",
       "  <thead>\n",
       "    <tr style=\"text-align: right;\">\n",
       "      <th></th>\n",
       "      <th>recency</th>\n",
       "      <th>frequency</th>\n",
       "      <th>amount</th>\n",
       "    </tr>\n",
       "    <tr>\n",
       "      <th>group</th>\n",
       "      <th></th>\n",
       "      <th></th>\n",
       "      <th></th>\n",
       "    </tr>\n",
       "  </thead>\n",
       "  <tbody>\n",
       "    <tr>\n",
       "      <th>5</th>\n",
       "      <td>448.58</td>\n",
       "      <td>6.58</td>\n",
       "      <td>261.22</td>\n",
       "    </tr>\n",
       "    <tr>\n",
       "      <th>4</th>\n",
       "      <td>2,567.04</td>\n",
       "      <td>1.86</td>\n",
       "      <td>214.86</td>\n",
       "    </tr>\n",
       "    <tr>\n",
       "      <th>10</th>\n",
       "      <td>799.34</td>\n",
       "      <td>1.40</td>\n",
       "      <td>87.43</td>\n",
       "    </tr>\n",
       "    <tr>\n",
       "      <th>2</th>\n",
       "      <td>202.55</td>\n",
       "      <td>9.86</td>\n",
       "      <td>42.48</td>\n",
       "    </tr>\n",
       "    <tr>\n",
       "      <th>3</th>\n",
       "      <td>162.10</td>\n",
       "      <td>2.40</td>\n",
       "      <td>41.11</td>\n",
       "    </tr>\n",
       "    <tr>\n",
       "      <th>0</th>\n",
       "      <td>2,563.24</td>\n",
       "      <td>1.28</td>\n",
       "      <td>37.78</td>\n",
       "    </tr>\n",
       "    <tr>\n",
       "      <th>9</th>\n",
       "      <td>74.00</td>\n",
       "      <td>20.78</td>\n",
       "      <td>35.80</td>\n",
       "    </tr>\n",
       "    <tr>\n",
       "      <th>6</th>\n",
       "      <td>1,653.88</td>\n",
       "      <td>3.55</td>\n",
       "      <td>35.70</td>\n",
       "    </tr>\n",
       "    <tr>\n",
       "      <th>7</th>\n",
       "      <td>507.18</td>\n",
       "      <td>5.61</td>\n",
       "      <td>22.56</td>\n",
       "    </tr>\n",
       "    <tr>\n",
       "      <th>8</th>\n",
       "      <td>922.83</td>\n",
       "      <td>1.28</td>\n",
       "      <td>22.43</td>\n",
       "    </tr>\n",
       "    <tr>\n",
       "      <th>1</th>\n",
       "      <td>2,684.29</td>\n",
       "      <td>1.31</td>\n",
       "      <td>16.26</td>\n",
       "    </tr>\n",
       "  </tbody>\n",
       "</table>\n",
       "</div>"
      ],
      "text/plain": [
       "       recency  frequency  amount\n",
       "group                            \n",
       "5       448.58       6.58  261.22\n",
       "4     2,567.04       1.86  214.86\n",
       "10      799.34       1.40   87.43\n",
       "2       202.55       9.86   42.48\n",
       "3       162.10       2.40   41.11\n",
       "0     2,563.24       1.28   37.78\n",
       "9        74.00      20.78   35.80\n",
       "6     1,653.88       3.55   35.70\n",
       "7       507.18       5.61   22.56\n",
       "8       922.83       1.28   22.43\n",
       "1     2,684.29       1.31   16.26"
      ]
     },
     "execution_count": 27,
     "metadata": {},
     "output_type": "execute_result"
    }
   ],
   "source": [
    "clusters.sort_values(by=['amount', 'recency', 'frequency'], ascending=[False, True, False])"
   ]
  },
  {
   "cell_type": "markdown",
   "id": "27ffa4a1-e359-42d5-9efc-ac8f5056e922",
   "metadata": {},
   "source": [
    "11 Segments is not optimal in this case, we have some overlapping segments. So let's try 8 clusters and see if it does better."
   ]
  },
  {
   "cell_type": "code",
   "execution_count": 28,
   "id": "d6ecd789-9322-4362-8e05-2e894835f036",
   "metadata": {},
   "outputs": [
    {
     "data": {
      "text/html": [
       "<div>\n",
       "<style scoped>\n",
       "    .dataframe tbody tr th:only-of-type {\n",
       "        vertical-align: middle;\n",
       "    }\n",
       "\n",
       "    .dataframe tbody tr th {\n",
       "        vertical-align: top;\n",
       "    }\n",
       "\n",
       "    .dataframe thead th {\n",
       "        text-align: right;\n",
       "    }\n",
       "</style>\n",
       "<table border=\"1\" class=\"dataframe\">\n",
       "  <thead>\n",
       "    <tr style=\"text-align: right;\">\n",
       "      <th></th>\n",
       "      <th>recency</th>\n",
       "      <th>frequency</th>\n",
       "      <th>amount</th>\n",
       "    </tr>\n",
       "    <tr>\n",
       "      <th>group</th>\n",
       "      <th></th>\n",
       "      <th></th>\n",
       "      <th></th>\n",
       "    </tr>\n",
       "  </thead>\n",
       "  <tbody>\n",
       "    <tr>\n",
       "      <th>0</th>\n",
       "      <td>2,612.50</td>\n",
       "      <td>1.30</td>\n",
       "      <td>29.03</td>\n",
       "    </tr>\n",
       "    <tr>\n",
       "      <th>1</th>\n",
       "      <td>193.65</td>\n",
       "      <td>10.62</td>\n",
       "      <td>42.02</td>\n",
       "    </tr>\n",
       "    <tr>\n",
       "      <th>2</th>\n",
       "      <td>162.10</td>\n",
       "      <td>2.40</td>\n",
       "      <td>41.11</td>\n",
       "    </tr>\n",
       "    <tr>\n",
       "      <th>3</th>\n",
       "      <td>1,147.20</td>\n",
       "      <td>1.49</td>\n",
       "      <td>112.51</td>\n",
       "    </tr>\n",
       "    <tr>\n",
       "      <th>4</th>\n",
       "      <td>448.58</td>\n",
       "      <td>6.58</td>\n",
       "      <td>261.22</td>\n",
       "    </tr>\n",
       "    <tr>\n",
       "      <th>5</th>\n",
       "      <td>1,017.09</td>\n",
       "      <td>2.64</td>\n",
       "      <td>25.60</td>\n",
       "    </tr>\n",
       "  </tbody>\n",
       "</table>\n",
       "</div>"
      ],
      "text/plain": [
       "       recency  frequency  amount\n",
       "group                            \n",
       "0     2,612.50       1.30   29.03\n",
       "1       193.65      10.62   42.02\n",
       "2       162.10       2.40   41.11\n",
       "3     1,147.20       1.49  112.51\n",
       "4       448.58       6.58  261.22\n",
       "5     1,017.09       2.64   25.60"
      ]
     },
     "execution_count": 28,
     "metadata": {},
     "output_type": "execute_result"
    }
   ],
   "source": [
    "# Cut at 6 clusters\n",
    "members = cut_tree(hcward, n_clusters=6)\n",
    "# Assign to each customer a group\n",
    "groups, counts = np.unique(members, return_counts=True)\n",
    "segments = dict(zip(groups, counts))\n",
    "customers_sample['group'] = members.flatten()\n",
    "# Create a table with the obtained groups and their characteristics\n",
    "clusters = customers_sample[['recency', 'frequency', 'amount', 'group']].groupby('group').mean()\n",
    "clusters"
   ]
  },
  {
   "cell_type": "markdown",
   "id": "141b6530-175b-4e63-b09f-f124a0316e09",
   "metadata": {
    "tags": []
   },
   "source": [
    "Result of the profiling:\n",
    "\n",
    "1. cluster 0 = lost\n",
    "2. cluster 1 = loyal customers\n",
    "3. cluster 2 = promising\n",
    "4. cluster 3 = Can't lose them\n",
    "5. cluster 4 = champions\n",
    "6. cluster 5 = about to sleep"
   ]
  },
  {
   "cell_type": "code",
   "execution_count": 29,
   "id": "c177c965-a82c-40ca-b7fd-e111f4da497d",
   "metadata": {},
   "outputs": [],
   "source": [
    "clusters['n_customers'] = customers_sample['group'].value_counts()\n",
    "clusters['cluster_names'] = ['lost', 'loyal', 'promising', \n",
    "                 \"can't lose them\", 'champions', 'about to sleep']\n"
   ]
  },
  {
   "cell_type": "code",
   "execution_count": 30,
   "id": "22a790da-8bef-420f-a3c6-957afe5cd3cd",
   "metadata": {},
   "outputs": [
    {
     "data": {
      "text/html": [
       "<div>\n",
       "<style scoped>\n",
       "    .dataframe tbody tr th:only-of-type {\n",
       "        vertical-align: middle;\n",
       "    }\n",
       "\n",
       "    .dataframe tbody tr th {\n",
       "        vertical-align: top;\n",
       "    }\n",
       "\n",
       "    .dataframe thead th {\n",
       "        text-align: right;\n",
       "    }\n",
       "</style>\n",
       "<table border=\"1\" class=\"dataframe\">\n",
       "  <thead>\n",
       "    <tr style=\"text-align: right;\">\n",
       "      <th></th>\n",
       "      <th>recency</th>\n",
       "      <th>frequency</th>\n",
       "      <th>amount</th>\n",
       "      <th>n_customers</th>\n",
       "      <th>cluster_names</th>\n",
       "    </tr>\n",
       "    <tr>\n",
       "      <th>group</th>\n",
       "      <th></th>\n",
       "      <th></th>\n",
       "      <th></th>\n",
       "      <th></th>\n",
       "      <th></th>\n",
       "    </tr>\n",
       "  </thead>\n",
       "  <tbody>\n",
       "    <tr>\n",
       "      <th>0</th>\n",
       "      <td>2,612.50</td>\n",
       "      <td>1.30</td>\n",
       "      <td>29.03</td>\n",
       "      <td>521</td>\n",
       "      <td>lost</td>\n",
       "    </tr>\n",
       "    <tr>\n",
       "      <th>1</th>\n",
       "      <td>193.65</td>\n",
       "      <td>10.62</td>\n",
       "      <td>42.02</td>\n",
       "      <td>130</td>\n",
       "      <td>loyal</td>\n",
       "    </tr>\n",
       "    <tr>\n",
       "      <th>2</th>\n",
       "      <td>162.10</td>\n",
       "      <td>2.40</td>\n",
       "      <td>41.11</td>\n",
       "      <td>306</td>\n",
       "      <td>promising</td>\n",
       "    </tr>\n",
       "    <tr>\n",
       "      <th>3</th>\n",
       "      <td>1,147.20</td>\n",
       "      <td>1.49</td>\n",
       "      <td>112.51</td>\n",
       "      <td>249</td>\n",
       "      <td>can't lose them</td>\n",
       "    </tr>\n",
       "    <tr>\n",
       "      <th>4</th>\n",
       "      <td>448.58</td>\n",
       "      <td>6.58</td>\n",
       "      <td>261.22</td>\n",
       "      <td>83</td>\n",
       "      <td>champions</td>\n",
       "    </tr>\n",
       "    <tr>\n",
       "      <th>5</th>\n",
       "      <td>1,017.09</td>\n",
       "      <td>2.64</td>\n",
       "      <td>25.60</td>\n",
       "      <td>553</td>\n",
       "      <td>about to sleep</td>\n",
       "    </tr>\n",
       "  </tbody>\n",
       "</table>\n",
       "</div>"
      ],
      "text/plain": [
       "       recency  frequency  amount  n_customers    cluster_names\n",
       "group                                                          \n",
       "0     2,612.50       1.30   29.03          521             lost\n",
       "1       193.65      10.62   42.02          130            loyal\n",
       "2       162.10       2.40   41.11          306        promising\n",
       "3     1,147.20       1.49  112.51          249  can't lose them\n",
       "4       448.58       6.58  261.22           83        champions\n",
       "5     1,017.09       2.64   25.60          553   about to sleep"
      ]
     },
     "execution_count": 30,
     "metadata": {},
     "output_type": "execute_result"
    }
   ],
   "source": [
    "clusters"
   ]
  },
  {
   "cell_type": "markdown",
   "id": "0cd585bb-3827-420c-b269-3b51fc258124",
   "metadata": {},
   "source": [
    "## Visualization"
   ]
  },
  {
   "cell_type": "code",
   "execution_count": 32,
   "id": "2ab3b2a1-ec8c-48bf-a2e6-ab9306966617",
   "metadata": {},
   "outputs": [
    {
     "data": {
      "image/png": "[encoded data removed]",
      "text/plain": [
       "<Figure size 864x576 with 1 Axes>"
      ]
     },
     "metadata": {
      "needs_background": "light"
     },
     "output_type": "display_data"
    }
   ],
   "source": [
    "clusters.sort_values(by=['recency', 'amount'], ascending=[True, False], inplace=True)\n",
    "\n",
    "squarify.plot(sizes=clusters['n_customers'], \n",
    "              label=clusters['cluster_names'], alpha=.45 )\n",
    "plt.title(\"RFM Segments\",fontsize=22)\n",
    "plt.axis('off');"
   ]
  },
  {
   "cell_type": "code",
   "execution_count": null,
   "id": "8dafd4b2-c542-464c-848b-d92ac51f11ec",
   "metadata": {},
   "outputs": [],
   "source": []
  }
 ],
 "metadata": {
  "kernelspec": {
   "display_name": "Python 3",
   "language": "python",
   "name": "python3"
  },
  "language_info": {
   "codemirror_mode": {
    "name": "ipython",
    "version": 3
   },
   "file_extension": ".py",
   "mimetype": "text/x-python",
   "name": "python",
   "nbconvert_exporter": "python",
   "pygments_lexer": "ipython3",
   "version": "3.9.4"
  }
 },
 "nbformat": 4,
 "nbformat_minor": 5
}
