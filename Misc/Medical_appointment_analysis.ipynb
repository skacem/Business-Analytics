{
 "cells": [
  {
   "cell_type": "markdown",
   "id": "79596783-95c4-4d82-9fa6-29c37b6ab466",
   "metadata": {},
   "source": [
    "# Medical Appointment No-Shows Analysis\n",
    "\n",
    "\n",
    "## Introduction\n",
    "\n",
    "In this notebook we will explore a dataset containing aproximately 100k medical appointments from the Brazilian public health system. One of the largest health system of the world.\n",
    "\n",
    "> This is at municipal level combining the appointments occured in more then 45 units. As fasr as we know, the city has 20 million loss a year with no-shows. After so many studies happening in this data the average no-show now is 20\\%. It is important to mention that all services offered to the municipality were free of charge.\n",
    "\n",
    "This analysis is focused on the question of whether or not patients show up for their appointment, including a set of characterisitics about the patient in each row:\n",
    "\n",
    "* `ScheduledDay`: tells us on which day the patient set up their appointment.\n",
    "* `Neighborhood`: indicates the location of the hopital.\n",
    "* `Scholarhip`: indicates whether or not the patient is enrolled in Brasilian welfare program called *Bolsa familia*\n",
    "* `No-show`: it says `No` if the patient showed up to their appointment, and `Yes` if they didn't show up.\n",
    "\n",
    "This analysis aims to outline some possible reasons for patient no-showing at the scheduled appointments, as well as get insights about the Brazilian public health system."
   ]
  },
  {
   "cell_type": "markdown",
   "id": "dfbf97cf-ba38-4a9e-8d57-8b50ed6c4b80",
   "metadata": {},
   "source": [
    "### Initial Statements\n",
    "\n",
    "This section sets up import statements for all packages that will be used throught this python notebook."
   ]
  },
  {
   "cell_type": "code",
   "execution_count": 1,
   "id": "02d39a8c-5136-4871-89b6-88ccc78fa005",
   "metadata": {},
   "outputs": [],
   "source": [
    "# Standard imports\n",
    "import pandas as pd\n",
    "import numpy as np\n",
    "import matplotlib.pyplot as plt\n",
    "import seaborn as sns\n",
    "from datetime import datetime, date"
   ]
  },
  {
   "cell_type": "code",
   "execution_count": 2,
   "id": "f9c4a540-4a4d-4d45-a170-04d991a8551d",
   "metadata": {},
   "outputs": [],
   "source": [
    "# set notebook environment\n",
    "%matplotlib inline\n",
    "\n",
    "sns.set_style('white')\n",
    "\n",
    "%precision %.3f\n",
    "pd.options.display.float_format = '{:,.2f}'.format\n",
    "plt.rcParams[\"figure.figsize\"] = 10,8\n",
    "pd.set_option('display.width', 100)\n",
    "plt.rcParams.update({'font.size': 22})\n",
    "\n",
    "# Disable jedi autocompleter\n",
    "%config Completer.use_jedi = False"
   ]
  },
  {
   "cell_type": "code",
   "execution_count": 3,
   "id": "fa293cb1-23a8-4bbc-b846-a05ec9e80bf6",
   "metadata": {},
   "outputs": [],
   "source": [
    "df = pd.read_csv('../Datasets/KaggleV2-May-2016.csv.zip')"
   ]
  },
  {
   "cell_type": "code",
   "execution_count": 4,
   "id": "a4561009-290f-41f5-b664-c4724c109463",
   "metadata": {},
   "outputs": [
    {
     "data": {
      "text/html": [
       "<div>\n",
       "<style scoped>\n",
       "    .dataframe tbody tr th:only-of-type {\n",
       "        vertical-align: middle;\n",
       "    }\n",
       "\n",
       "    .dataframe tbody tr th {\n",
       "        vertical-align: top;\n",
       "    }\n",
       "\n",
       "    .dataframe thead th {\n",
       "        text-align: right;\n",
       "    }\n",
       "</style>\n",
       "<table border=\"1\" class=\"dataframe\">\n",
       "  <thead>\n",
       "    <tr style=\"text-align: right;\">\n",
       "      <th></th>\n",
       "      <th>PatientId</th>\n",
       "      <th>AppointmentID</th>\n",
       "      <th>Gender</th>\n",
       "      <th>ScheduledDay</th>\n",
       "      <th>AppointmentDay</th>\n",
       "      <th>Age</th>\n",
       "      <th>Neighbourhood</th>\n",
       "      <th>Scholarship</th>\n",
       "      <th>Hipertension</th>\n",
       "      <th>Diabetes</th>\n",
       "      <th>Alcoholism</th>\n",
       "      <th>Handcap</th>\n",
       "      <th>SMS_received</th>\n",
       "      <th>No-show</th>\n",
       "    </tr>\n",
       "  </thead>\n",
       "  <tbody>\n",
       "    <tr>\n",
       "      <th>30729</th>\n",
       "      <td>947,292,296,889,981.00</td>\n",
       "      <td>5671684</td>\n",
       "      <td>F</td>\n",
       "      <td>2016-05-09T07:01:54Z</td>\n",
       "      <td>2016-05-13T00:00:00Z</td>\n",
       "      <td>28</td>\n",
       "      <td>CRUZAMENTO</td>\n",
       "      <td>1</td>\n",
       "      <td>0</td>\n",
       "      <td>0</td>\n",
       "      <td>0</td>\n",
       "      <td>0</td>\n",
       "      <td>0</td>\n",
       "      <td>Yes</td>\n",
       "    </tr>\n",
       "    <tr>\n",
       "      <th>84319</th>\n",
       "      <td>381,291,323,955,179.00</td>\n",
       "      <td>5710285</td>\n",
       "      <td>F</td>\n",
       "      <td>2016-05-17T15:41:48Z</td>\n",
       "      <td>2016-06-02T00:00:00Z</td>\n",
       "      <td>18</td>\n",
       "      <td>PRAIA DO SUÁ</td>\n",
       "      <td>1</td>\n",
       "      <td>0</td>\n",
       "      <td>0</td>\n",
       "      <td>0</td>\n",
       "      <td>0</td>\n",
       "      <td>1</td>\n",
       "      <td>Yes</td>\n",
       "    </tr>\n",
       "    <tr>\n",
       "      <th>30045</th>\n",
       "      <td>42,119,967,479,372.00</td>\n",
       "      <td>5732347</td>\n",
       "      <td>F</td>\n",
       "      <td>2016-05-24T11:21:00Z</td>\n",
       "      <td>2016-05-30T00:00:00Z</td>\n",
       "      <td>76</td>\n",
       "      <td>BOA VISTA</td>\n",
       "      <td>0</td>\n",
       "      <td>1</td>\n",
       "      <td>0</td>\n",
       "      <td>0</td>\n",
       "      <td>0</td>\n",
       "      <td>1</td>\n",
       "      <td>No</td>\n",
       "    </tr>\n",
       "    <tr>\n",
       "      <th>60857</th>\n",
       "      <td>71,479,466,711,566.00</td>\n",
       "      <td>5691487</td>\n",
       "      <td>F</td>\n",
       "      <td>2016-05-12T12:56:43Z</td>\n",
       "      <td>2016-05-12T00:00:00Z</td>\n",
       "      <td>38</td>\n",
       "      <td>DO CABRAL</td>\n",
       "      <td>1</td>\n",
       "      <td>0</td>\n",
       "      <td>0</td>\n",
       "      <td>0</td>\n",
       "      <td>0</td>\n",
       "      <td>0</td>\n",
       "      <td>No</td>\n",
       "    </tr>\n",
       "    <tr>\n",
       "      <th>93648</th>\n",
       "      <td>8,381,522,134,974.00</td>\n",
       "      <td>5773861</td>\n",
       "      <td>M</td>\n",
       "      <td>2016-06-06T07:34:50Z</td>\n",
       "      <td>2016-06-08T00:00:00Z</td>\n",
       "      <td>41</td>\n",
       "      <td>SÃO JOSÉ</td>\n",
       "      <td>0</td>\n",
       "      <td>0</td>\n",
       "      <td>0</td>\n",
       "      <td>0</td>\n",
       "      <td>0</td>\n",
       "      <td>0</td>\n",
       "      <td>Yes</td>\n",
       "    </tr>\n",
       "  </tbody>\n",
       "</table>\n",
       "</div>"
      ],
      "text/plain": [
       "                   PatientId  AppointmentID Gender          ScheduledDay        AppointmentDay  \\\n",
       "30729 947,292,296,889,981.00        5671684      F  2016-05-09T07:01:54Z  2016-05-13T00:00:00Z   \n",
       "84319 381,291,323,955,179.00        5710285      F  2016-05-17T15:41:48Z  2016-06-02T00:00:00Z   \n",
       "30045  42,119,967,479,372.00        5732347      F  2016-05-24T11:21:00Z  2016-05-30T00:00:00Z   \n",
       "60857  71,479,466,711,566.00        5691487      F  2016-05-12T12:56:43Z  2016-05-12T00:00:00Z   \n",
       "93648   8,381,522,134,974.00        5773861      M  2016-06-06T07:34:50Z  2016-06-08T00:00:00Z   \n",
       "\n",
       "       Age Neighbourhood  Scholarship  Hipertension  Diabetes  Alcoholism  Handcap  SMS_received  \\\n",
       "30729   28    CRUZAMENTO            1             0         0           0        0             0   \n",
       "84319   18  PRAIA DO SUÁ            1             0         0           0        0             1   \n",
       "30045   76     BOA VISTA            0             1         0           0        0             1   \n",
       "60857   38     DO CABRAL            1             0         0           0        0             0   \n",
       "93648   41      SÃO JOSÉ            0             0         0           0        0             0   \n",
       "\n",
       "      No-show  \n",
       "30729     Yes  \n",
       "84319     Yes  \n",
       "30045      No  \n",
       "60857      No  \n",
       "93648     Yes  "
      ]
     },
     "execution_count": 4,
     "metadata": {},
     "output_type": "execute_result"
    }
   ],
   "source": [
    "df.sample(5)"
   ]
  },
  {
   "cell_type": "markdown",
   "id": "c778cfb6-5a54-448d-8a1c-d2cc3d6bc490",
   "metadata": {},
   "source": [
    "### Getting to Know The Data"
   ]
  },
  {
   "cell_type": "code",
   "execution_count": 5,
   "id": "5a70861c-de54-4e11-9c4a-eb5412f105ef",
   "metadata": {},
   "outputs": [
    {
     "name": "stdout",
     "output_type": "stream",
     "text": [
      "<class 'pandas.core.frame.DataFrame'>\n",
      "RangeIndex: 110527 entries, 0 to 110526\n",
      "Data columns (total 14 columns):\n",
      " #   Column          Non-Null Count   Dtype  \n",
      "---  ------          --------------   -----  \n",
      " 0   PatientId       110527 non-null  float64\n",
      " 1   AppointmentID   110527 non-null  int64  \n",
      " 2   Gender          110527 non-null  object \n",
      " 3   ScheduledDay    110527 non-null  object \n",
      " 4   AppointmentDay  110527 non-null  object \n",
      " 5   Age             110527 non-null  int64  \n",
      " 6   Neighbourhood   110527 non-null  object \n",
      " 7   Scholarship     110527 non-null  int64  \n",
      " 8   Hipertension    110527 non-null  int64  \n",
      " 9   Diabetes        110527 non-null  int64  \n",
      " 10  Alcoholism      110527 non-null  int64  \n",
      " 11  Handcap         110527 non-null  int64  \n",
      " 12  SMS_received    110527 non-null  int64  \n",
      " 13  No-show         110527 non-null  object \n",
      "dtypes: float64(1), int64(8), object(5)\n",
      "memory usage: 44.3 MB\n"
     ]
    }
   ],
   "source": [
    "df.info(memory_usage='deep')"
   ]
  },
  {
   "cell_type": "code",
   "execution_count": 6,
   "id": "84f14e5d-05a7-427b-8b65-bb2a1df1b5e0",
   "metadata": {
    "tags": []
   },
   "outputs": [
    {
     "name": "stdout",
     "output_type": "stream",
     "text": [
      "Rows     :  110527\n",
      "\n",
      "Unique values :  \n",
      " PatientId          62299\n",
      "AppointmentID     110527\n",
      "Gender                 2\n",
      "ScheduledDay      103549\n",
      "AppointmentDay        27\n",
      "Age                  104\n",
      "Neighbourhood         81\n",
      "Scholarship            2\n",
      "Hipertension           2\n",
      "Diabetes               2\n",
      "Alcoholism             2\n",
      "Handcap                5\n",
      "SMS_received           2\n",
      "No-show                2\n",
      "dtype: int64\n"
     ]
    }
   ],
   "source": [
    "print (\"Rows     : \" , df.shape[0])\n",
    "print (\"\\nUnique values :  \\n\",df.nunique())"
   ]
  },
  {
   "cell_type": "markdown",
   "id": "24fd5460-05dc-4601-a416-c87669e9040a",
   "metadata": {},
   "source": [
    "## Data Wrangling\n",
    "\n",
    "### Update Data Types\n",
    "Let's clean our dataset a bit.\n",
    "We start by transforming the data the right format. It allows us to save some memory and simplifies further processing."
   ]
  },
  {
   "cell_type": "code",
   "execution_count": 7,
   "id": "a85e0f5a-5174-4d28-920f-547a360e20c8",
   "metadata": {},
   "outputs": [],
   "source": [
    "# Update neighborhood, Gender and No-show data types\n",
    "# From object to category\n",
    "df['Neighbourhood'] = df['Neighbourhood'].astype('category')\n",
    "df['Gender'] = df['Gender'].astype('category')\n",
    "\n",
    "# Transform Paient ID data type from float to int\n",
    "df['PatientId'] = df['PatientId'].astype(int)\n",
    "\n",
    "# Replace Yes/No with 1/0\n",
    "df['No-show'].replace({'No': 0, 'Yes': 1}, inplace=True)"
   ]
  },
  {
   "cell_type": "code",
   "execution_count": 8,
   "id": "3935ccde-d9a9-43ba-bab9-6afb862b9316",
   "metadata": {},
   "outputs": [
    {
     "data": {
      "text/html": [
       "<div>\n",
       "<style scoped>\n",
       "    .dataframe tbody tr th:only-of-type {\n",
       "        vertical-align: middle;\n",
       "    }\n",
       "\n",
       "    .dataframe tbody tr th {\n",
       "        vertical-align: top;\n",
       "    }\n",
       "\n",
       "    .dataframe thead th {\n",
       "        text-align: right;\n",
       "    }\n",
       "</style>\n",
       "<table border=\"1\" class=\"dataframe\">\n",
       "  <thead>\n",
       "    <tr style=\"text-align: right;\">\n",
       "      <th></th>\n",
       "      <th>ScheduledDay</th>\n",
       "    </tr>\n",
       "  </thead>\n",
       "  <tbody>\n",
       "    <tr>\n",
       "      <th>0</th>\n",
       "      <td>2016-04-29T18:38:08Z</td>\n",
       "    </tr>\n",
       "    <tr>\n",
       "      <th>1</th>\n",
       "      <td>2016-04-29T16:08:27Z</td>\n",
       "    </tr>\n",
       "    <tr>\n",
       "      <th>2</th>\n",
       "      <td>2016-04-29T16:19:04Z</td>\n",
       "    </tr>\n",
       "  </tbody>\n",
       "</table>\n",
       "</div>"
      ],
      "text/plain": [
       "           ScheduledDay\n",
       "0  2016-04-29T18:38:08Z\n",
       "1  2016-04-29T16:08:27Z\n",
       "2  2016-04-29T16:19:04Z"
      ]
     },
     "execution_count": 8,
     "metadata": {},
     "output_type": "execute_result"
    }
   ],
   "source": [
    "df[['ScheduledDay']].head(3)"
   ]
  },
  {
   "cell_type": "markdown",
   "id": "ea21a3db-8cd1-4aa5-bbbc-988e30da0a95",
   "metadata": {},
   "source": [
    "While the scheduling date is recorded to the second, the time of the appointment is missing. Schade!\n",
    "I would like to add two more columns to the dataset: number of waiting days as well as the appointment as day of the week. But before let's change the data type of the scheduling day and remove the time from it."
   ]
  },
  {
   "cell_type": "code",
   "execution_count": 9,
   "id": "cc1855a3-20d1-4651-ad16-2625de5adf56",
   "metadata": {
    "tags": []
   },
   "outputs": [],
   "source": [
    "# From object to datetime\n",
    "df['AppointmentDay'] = pd.to_datetime(df['AppointmentDay'].str.split('T').str[0])\n",
    "df['ScheduledDay'] = pd.to_datetime(df['ScheduledDay'].str.split('T').str[0])"
   ]
  },
  {
   "cell_type": "markdown",
   "id": "6c2b102a-fb2c-48d1-b14b-08d1f168855f",
   "metadata": {},
   "source": [
    "### Add, Remove and Update  Features\n",
    "\n",
    "Now that we have converted the dates to the correct data type format: `Timestamps` , we can compute the waiting days till appointment by a simple substraction:"
   ]
  },
  {
   "cell_type": "code",
   "execution_count": 10,
   "id": "fa6a139a-0b89-4b35-b46f-4c03fe66462d",
   "metadata": {},
   "outputs": [],
   "source": [
    "df['WaitingDays'] = df['AppointmentDay'] - df['ScheduledDay']\n",
    "\n",
    "# Transform the waiting days to int\n",
    "df['WaitingDays'] = df['WaitingDays'].dt.days"
   ]
  },
  {
   "cell_type": "markdown",
   "id": "2c345fbd-344e-413e-8cc2-268cf957aec7",
   "metadata": {},
   "source": [
    "Remove appointment IDs, they don't contain any valuable information. We could also remove patient ID's, however I want to check if some patients didn't show more than twice"
   ]
  },
  {
   "cell_type": "code",
   "execution_count": 11,
   "id": "2bed18d8-c6fa-48b0-9fce-8c27f0c8eb44",
   "metadata": {},
   "outputs": [],
   "source": [
    "# remove the Appointment ID\n",
    "df.drop('AppointmentID', axis=1, inplace=True);"
   ]
  },
  {
   "cell_type": "code",
   "execution_count": 12,
   "id": "017d228e-bdfb-469e-90be-6a9b54f3fef9",
   "metadata": {},
   "outputs": [],
   "source": [
    "# Rename columns\n",
    "df.rename(columns={'Neighbourhood': 'Neighborhood',\n",
    "                   'Handcap': 'Handicap',\n",
    "                   'Hipertension': 'Hypertension'},\n",
    "          inplace=True)"
   ]
  },
  {
   "cell_type": "code",
   "execution_count": 13,
   "id": "a32b12c9-2848-49f5-b478-b93aafd51955",
   "metadata": {
    "tags": []
   },
   "outputs": [
    {
     "data": {
      "text/plain": [
       "'Jardim Da Penha'"
      ]
     },
     "execution_count": 13,
     "metadata": {},
     "output_type": "execute_result"
    }
   ],
   "source": [
    "# change upper case to title case inside Neighborhood\n",
    "df['Neighborhood'] = df['Neighborhood'].str.title()"
   ]
  },
  {
   "cell_type": "markdown",
   "id": "a297ebdf-d473-4413-8496-d7436ee3223e",
   "metadata": {},
   "source": [
    "### Data Consistency Check"
   ]
  },
  {
   "cell_type": "code",
   "execution_count": 11,
   "id": "672615ec-e623-4d3e-b0ed-3c7d01f7ed91",
   "metadata": {},
   "outputs": [
    {
     "data": {
      "text/html": [
       "<div>\n",
       "<style scoped>\n",
       "    .dataframe tbody tr th:only-of-type {\n",
       "        vertical-align: middle;\n",
       "    }\n",
       "\n",
       "    .dataframe tbody tr th {\n",
       "        vertical-align: top;\n",
       "    }\n",
       "\n",
       "    .dataframe thead th {\n",
       "        text-align: right;\n",
       "    }\n",
       "</style>\n",
       "<table border=\"1\" class=\"dataframe\">\n",
       "  <thead>\n",
       "    <tr style=\"text-align: right;\">\n",
       "      <th></th>\n",
       "      <th>PatientId</th>\n",
       "      <th>Gender</th>\n",
       "      <th>ScheduledDay</th>\n",
       "      <th>AppointmentDay</th>\n",
       "      <th>Age</th>\n",
       "      <th>Neighbourhood</th>\n",
       "      <th>Scholarship</th>\n",
       "      <th>Hipertension</th>\n",
       "      <th>Diabetes</th>\n",
       "      <th>Alcoholism</th>\n",
       "      <th>Handcap</th>\n",
       "      <th>SMS_received</th>\n",
       "      <th>No-show</th>\n",
       "      <th>WaitingDays</th>\n",
       "    </tr>\n",
       "  </thead>\n",
       "  <tbody>\n",
       "    <tr>\n",
       "      <th>27033</th>\n",
       "      <td>7839272661752</td>\n",
       "      <td>M</td>\n",
       "      <td>2016-05-10</td>\n",
       "      <td>2016-05-09</td>\n",
       "      <td>38</td>\n",
       "      <td>RESISTÊNCIA</td>\n",
       "      <td>0</td>\n",
       "      <td>0</td>\n",
       "      <td>0</td>\n",
       "      <td>0</td>\n",
       "      <td>1</td>\n",
       "      <td>0</td>\n",
       "      <td>1</td>\n",
       "      <td>-1</td>\n",
       "    </tr>\n",
       "    <tr>\n",
       "      <th>55226</th>\n",
       "      <td>7896293967868</td>\n",
       "      <td>F</td>\n",
       "      <td>2016-05-18</td>\n",
       "      <td>2016-05-17</td>\n",
       "      <td>19</td>\n",
       "      <td>SANTO ANTÔNIO</td>\n",
       "      <td>0</td>\n",
       "      <td>0</td>\n",
       "      <td>0</td>\n",
       "      <td>0</td>\n",
       "      <td>1</td>\n",
       "      <td>0</td>\n",
       "      <td>1</td>\n",
       "      <td>-1</td>\n",
       "    </tr>\n",
       "    <tr>\n",
       "      <th>64175</th>\n",
       "      <td>24252258389979</td>\n",
       "      <td>F</td>\n",
       "      <td>2016-05-05</td>\n",
       "      <td>2016-05-04</td>\n",
       "      <td>22</td>\n",
       "      <td>CONSOLAÇÃO</td>\n",
       "      <td>0</td>\n",
       "      <td>0</td>\n",
       "      <td>0</td>\n",
       "      <td>0</td>\n",
       "      <td>0</td>\n",
       "      <td>0</td>\n",
       "      <td>1</td>\n",
       "      <td>-1</td>\n",
       "    </tr>\n",
       "    <tr>\n",
       "      <th>71533</th>\n",
       "      <td>998231581612122</td>\n",
       "      <td>F</td>\n",
       "      <td>2016-05-11</td>\n",
       "      <td>2016-05-05</td>\n",
       "      <td>81</td>\n",
       "      <td>SANTO ANTÔNIO</td>\n",
       "      <td>0</td>\n",
       "      <td>0</td>\n",
       "      <td>0</td>\n",
       "      <td>0</td>\n",
       "      <td>0</td>\n",
       "      <td>0</td>\n",
       "      <td>1</td>\n",
       "      <td>-6</td>\n",
       "    </tr>\n",
       "    <tr>\n",
       "      <th>72362</th>\n",
       "      <td>3787481966821</td>\n",
       "      <td>M</td>\n",
       "      <td>2016-05-04</td>\n",
       "      <td>2016-05-03</td>\n",
       "      <td>7</td>\n",
       "      <td>TABUAZEIRO</td>\n",
       "      <td>0</td>\n",
       "      <td>0</td>\n",
       "      <td>0</td>\n",
       "      <td>0</td>\n",
       "      <td>0</td>\n",
       "      <td>0</td>\n",
       "      <td>1</td>\n",
       "      <td>-1</td>\n",
       "    </tr>\n",
       "  </tbody>\n",
       "</table>\n",
       "</div>"
      ],
      "text/plain": [
       "             PatientId Gender ScheduledDay AppointmentDay  Age  Neighbourhood  Scholarship  \\\n",
       "27033    7839272661752      M   2016-05-10     2016-05-09   38    RESISTÊNCIA            0   \n",
       "55226    7896293967868      F   2016-05-18     2016-05-17   19  SANTO ANTÔNIO            0   \n",
       "64175   24252258389979      F   2016-05-05     2016-05-04   22     CONSOLAÇÃO            0   \n",
       "71533  998231581612122      F   2016-05-11     2016-05-05   81  SANTO ANTÔNIO            0   \n",
       "72362    3787481966821      M   2016-05-04     2016-05-03    7     TABUAZEIRO            0   \n",
       "\n",
       "       Hipertension  Diabetes  Alcoholism  Handcap  SMS_received  No-show  WaitingDays  \n",
       "27033             0         0           0        1             0        1           -1  \n",
       "55226             0         0           0        1             0        1           -1  \n",
       "64175             0         0           0        0             0        1           -1  \n",
       "71533             0         0           0        0             0        1           -6  \n",
       "72362             0         0           0        0             0        1           -1  "
      ]
     },
     "execution_count": 11,
     "metadata": {},
     "output_type": "execute_result"
    }
   ],
   "source": [
    "# Let's check the consistency of the results\n",
    "df[df['WaitingDays'] < 0]"
   ]
  },
  {
   "cell_type": "code",
   "execution_count": 12,
   "id": "02125632-6f54-43a4-92ca-fbc6ddf399de",
   "metadata": {},
   "outputs": [],
   "source": [
    "# remove negative waiting days\n",
    "df = df[df['WaitingDays'] >= 0]"
   ]
  },
  {
   "cell_type": "markdown",
   "id": "ab163789-2ba4-4e96-95d9-62f993bf9db5",
   "metadata": {},
   "source": [
    "Why children didn't appear certainely depends on their parents. So here it doesn't make sense to consider children in the analysis. I'm, however, not sure about how it is in Brasil regarding age and doctor-patient confidentiality. My common sense tells me, that all patients under 15 should be ignored in the analysis."
   ]
  },
  {
   "cell_type": "code",
   "execution_count": 13,
   "id": "eb080c14-1c25-4f46-85dd-03b5821bc426",
   "metadata": {},
   "outputs": [
    {
     "data": {
      "text/plain": [
       "23257"
      ]
     },
     "execution_count": 13,
     "metadata": {},
     "output_type": "execute_result"
    }
   ],
   "source": [
    "len(df[df['Age'] < 15])"
   ]
  },
  {
   "cell_type": "markdown",
   "id": "5724cb24-248b-41bb-9b79-4a99c5ac49be",
   "metadata": {},
   "source": [
    "We are going to drop over 23k observations. It seems a lot, but in my opinion it is the right thing to do. The rule is simple: the quality of your analysis, depends on the quality of your data!  \n",
    "Now the question is, shouldn't we remove elderly people with handicaps? Maybe, but I prefer not to descriminate in this case."
   ]
  },
  {
   "cell_type": "code",
   "execution_count": 14,
   "id": "0fa87617-d342-4951-ab83-c7d951ebe53d",
   "metadata": {},
   "outputs": [],
   "source": [
    "df = df[df['Age'] > 14]\n",
    "df.reindex();"
   ]
  },
  {
   "cell_type": "code",
   "execution_count": 15,
   "id": "f87f291e-3f88-4ee5-a02e-0ab38cac8fb2",
   "metadata": {},
   "outputs": [
    {
     "name": "stdout",
     "output_type": "stream",
     "text": [
      "<class 'pandas.core.frame.DataFrame'>\n",
      "Int64Index: 87265 entries, 0 to 110526\n",
      "Data columns (total 14 columns):\n",
      " #   Column          Non-Null Count  Dtype         \n",
      "---  ------          --------------  -----         \n",
      " 0   PatientId       87265 non-null  int64         \n",
      " 1   Gender          87265 non-null  category      \n",
      " 2   ScheduledDay    87265 non-null  datetime64[ns]\n",
      " 3   AppointmentDay  87265 non-null  datetime64[ns]\n",
      " 4   Age             87265 non-null  int64         \n",
      " 5   Neighbourhood   87265 non-null  category      \n",
      " 6   Scholarship     87265 non-null  int64         \n",
      " 7   Hipertension    87265 non-null  int64         \n",
      " 8   Diabetes        87265 non-null  int64         \n",
      " 9   Alcoholism      87265 non-null  int64         \n",
      " 10  Handcap         87265 non-null  int64         \n",
      " 11  SMS_received    87265 non-null  int64         \n",
      " 12  No-show         87265 non-null  int64         \n",
      " 13  WaitingDays     87265 non-null  int64         \n",
      "dtypes: category(2), datetime64[ns](2), int64(10)\n",
      "memory usage: 8.8 MB\n"
     ]
    }
   ],
   "source": [
    "df.info()"
   ]
  },
  {
   "cell_type": "markdown",
   "id": "a8c93adc-b6ce-4021-b0fd-6d76229049cf",
   "metadata": {},
   "source": []
  },
  {
   "cell_type": "markdown",
   "id": "0838113e-c5ba-4227-bb75-6843b34c6e56",
   "metadata": {},
   "source": []
  }
 ],
 "metadata": {
  "kernelspec": {
   "display_name": "Python 3",
   "language": "python",
   "name": "python3"
  },
  "language_info": {
   "codemirror_mode": {
    "name": "ipython",
    "version": 3
   },
   "file_extension": ".py",
   "mimetype": "text/x-python",
   "name": "python",
   "nbconvert_exporter": "python",
   "pygments_lexer": "ipython3",
   "version": "3.6.13"
  }
 },
 "nbformat": 4,
 "nbformat_minor": 5
}
